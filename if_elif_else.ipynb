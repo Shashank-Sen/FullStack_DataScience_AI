{
 "cells": [
  {
   "cell_type": "markdown",
   "id": "a7d82681-5d78-495d-9a56-8851b8e70f05",
   "metadata": {},
   "source": [
    "### If Conditional Statement in Python"
   ]
  },
  {
   "cell_type": "code",
   "execution_count": 3,
   "id": "85181ac1-e62e-4b95-b9ee-53c5696299cf",
   "metadata": {},
   "outputs": [
    {
     "name": "stdin",
     "output_type": "stream",
     "text": [
      "Your age :  22\n"
     ]
    },
    {
     "name": "stdout",
     "output_type": "stream",
     "text": [
      "You are eligible to vote.\n"
     ]
    }
   ],
   "source": [
    "age = int(input(\"Your age : \"))\n",
    "# age = 22\n",
    "if age >= 18:\n",
    "    print(\"You are eligible to vote.\")"
   ]
  },
  {
   "cell_type": "code",
   "execution_count": 4,
   "id": "e365650d-c89e-4e78-a947-0f0bf2e61899",
   "metadata": {},
   "outputs": [],
   "source": [
    "age = 17\n",
    "if age > 18 :\n",
    "    print(\"You are eligible to vote.\")    "
   ]
  },
  {
   "cell_type": "code",
   "execution_count": 6,
   "id": "c91bd256-6f5d-4c49-ad38-21d7c4018071",
   "metadata": {},
   "outputs": [
    {
     "name": "stdout",
     "output_type": "stream",
     "text": [
      "two\n"
     ]
    }
   ],
   "source": [
    "x = 2\n",
    "\n",
    "if x == 1:\n",
    "    print(\"one\")\n",
    "if x == 2:\n",
    "    print(\"two\")\n",
    "if x == 3:\n",
    "    print(\"three\")"
   ]
  },
  {
   "cell_type": "markdown",
   "id": "c65291b3-de4e-4be2-811d-effafefe7135",
   "metadata": {},
   "source": [
    "### If else Conditional Statements in Python"
   ]
  },
  {
   "cell_type": "code",
   "execution_count": 7,
   "id": "c26a6f2a-142f-4b66-bfd1-a33411a84b54",
   "metadata": {},
   "outputs": [
    {
     "name": "stdout",
     "output_type": "stream",
     "text": [
      "Travel for free.\n"
     ]
    }
   ],
   "source": [
    "age = 10\n",
    "if age <= 12:\n",
    "    print(\"Travel for free.\")\n",
    "else:\n",
    "    print(\"Pay for ticket.\")"
   ]
  },
  {
   "cell_type": "markdown",
   "id": "684a682c-f7e2-48c8-bb81-1facbaae9e04",
   "metadata": {},
   "source": [
    "## Short Hand if-else\n",
    "#### The short-hand if-else statement allows us to write a single-line if-else statement.\n"
   ]
  },
  {
   "cell_type": "code",
   "execution_count": 8,
   "id": "31bdd935-cd50-4560-9ff3-306bcac2dec3",
   "metadata": {},
   "outputs": [
    {
     "name": "stdout",
     "output_type": "stream",
     "text": [
      "Result: Pass\n"
     ]
    }
   ],
   "source": [
    "marks = 45\n",
    "res = \"Pass\" if marks >= 40 else \"Fail\"\n",
    "print(f\"Result: {res}\")"
   ]
  },
  {
   "cell_type": "markdown",
   "id": "bf306198-59c8-4f74-aa19-ece467fd830a",
   "metadata": {},
   "source": [
    "### elif Statement"
   ]
  },
  {
   "cell_type": "code",
   "execution_count": 11,
   "id": "5647d9c1-cde1-4901-98c5-f40c3850c73a",
   "metadata": {},
   "outputs": [
    {
     "name": "stdout",
     "output_type": "stream",
     "text": [
      "Young adult\n"
     ]
    }
   ],
   "source": [
    "age = 22\n",
    "if age <= 12:\n",
    "    prpint(\"Child\")\n",
    "elif age <= 19:\n",
    "    print(\"Teenager\")\n",
    "elif age <= 35:\n",
    "    print(\"Young adult\")\n",
    "else:\n",
    "    print(\"Adult\")"
   ]
  },
  {
   "cell_type": "markdown",
   "id": "a396ef35-5fd5-4b55-9361-08b6e167a338",
   "metadata": {},
   "source": [
    "### Nested if..else Conditional Statements in Python"
   ]
  },
  {
   "cell_type": "code",
   "execution_count": 12,
   "id": "ac7ba0c2-5994-4883-8558-4379e7e353f2",
   "metadata": {},
   "outputs": [
    {
     "name": "stdout",
     "output_type": "stream",
     "text": [
      "30% senior discount!\n"
     ]
    }
   ],
   "source": [
    "age = 80\n",
    "is_member = True\n",
    "\n",
    "if age >= 60:\n",
    "    if is_member:\n",
    "        print(\"30% senior discount!\")\n",
    "    else:\n",
    "        print(\"20% senior discount.\")\n",
    "else:\n",
    "    print(\"Not eligible for a senior discount.\")"
   ]
  },
  {
   "cell_type": "markdown",
   "id": "867dafd3-bed6-4314-8ba1-ff9f914b35a4",
   "metadata": {},
   "source": [
    "### Match-Case Statement in Python"
   ]
  },
  {
   "cell_type": "code",
   "execution_count": 13,
   "id": "fab83dd9-aa66-4b84-a647-468a1727d519",
   "metadata": {},
   "outputs": [
    {
     "name": "stdout",
     "output_type": "stream",
     "text": [
      "Other number\n"
     ]
    }
   ],
   "source": [
    "number = 4\n",
    "match number:\n",
    "    case 1:\n",
    "        print(\"One\")\n",
    "    case 2 | 3:\n",
    "        print(\"Two or Three\")\n",
    "    case _:\n",
    "        print(\"Other number\")"
   ]
  },
  {
   "cell_type": "code",
   "execution_count": null,
   "id": "e45b333f-b1be-46ee-a71f-49bab74e6411",
   "metadata": {},
   "outputs": [],
   "source": []
  }
 ],
 "metadata": {
  "kernelspec": {
   "display_name": "Python 3 (ipykernel)",
   "language": "python",
   "name": "python3"
  },
  "language_info": {
   "codemirror_mode": {
    "name": "ipython",
    "version": 3
   },
   "file_extension": ".py",
   "mimetype": "text/x-python",
   "name": "python",
   "nbconvert_exporter": "python",
   "pygments_lexer": "ipython3",
   "version": "3.13.5"
  }
 },
 "nbformat": 4,
 "nbformat_minor": 5
}
