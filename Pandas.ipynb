{
 "cells": [
  {
   "cell_type": "markdown",
   "id": "89767ef0-573a-4930-a4a3-92c74fc000e5",
   "metadata": {},
   "source": [
    "### Pandas"
   ]
  },
  {
   "cell_type": "raw",
   "id": "8d2778cf-92a2-4220-8594-fdb8957cd7f5",
   "metadata": {},
   "source": [
    "Pandas is an open-source Python library primarily used for data manipulation and analysis. It provides powerful and flexible data structures, particularly the DataFrame and Series, which are designed to make working with \"relational\" or \"labeled\" data intuitive and efficient. "
   ]
  },
  {
   "cell_type": "markdown",
   "id": "7e752b5f-541e-4686-9bc3-53227ae3d46e",
   "metadata": {},
   "source": [
    "**pandas can handle :**\n",
    " 1. missing data treatment\n",
    " 2. inserted and deleted value from dataframe\n",
    " 3. data allignment\n",
    " 4. Group by funvtionality\n",
    " 5. slicing, indexcing, fancy indexing\n",
    " 6. merging and joining dataset\n",
    " 7. reshaping and pivot\n",
    " 8. hdfs"
   ]
  },
  {
   "cell_type": "code",
   "execution_count": null,
   "id": "5639ad2c-0d1d-464f-9b8e-7f832d00043c",
   "metadata": {},
   "outputs": [],
   "source": []
  }
 ],
 "metadata": {
  "kernelspec": {
   "display_name": "Python 3 (ipykernel)",
   "language": "python",
   "name": "python3"
  },
  "language_info": {
   "codemirror_mode": {
    "name": "ipython",
    "version": 3
   },
   "file_extension": ".py",
   "mimetype": "text/x-python",
   "name": "python",
   "nbconvert_exporter": "python",
   "pygments_lexer": "ipython3",
   "version": "3.13.5"
  }
 },
 "nbformat": 4,
 "nbformat_minor": 5
}
