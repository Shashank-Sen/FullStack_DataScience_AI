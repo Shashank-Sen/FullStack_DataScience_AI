{
 "cells": [
  {
   "cell_type": "code",
   "execution_count": 1,
   "id": "b296a766-a401-4a5a-b443-fdb974dffcd4",
   "metadata": {},
   "outputs": [
    {
     "name": "stdout",
     "output_type": "stream",
     "text": [
      "5\n"
     ]
    }
   ],
   "source": [
    "a=2\n",
    "b=3\n",
    "c= a+b\n",
    "print(c)"
   ]
  },
  {
   "cell_type": "code",
   "execution_count": 1,
   "id": "34d0383b-b44b-45af-ae8e-52ead877dfc0",
   "metadata": {},
   "outputs": [],
   "source": [
    "l=[100, 12, 23, 54, 65,76]"
   ]
  },
  {
   "cell_type": "code",
   "execution_count": 2,
   "id": "98a3b495-74ac-40da-a7d9-6bbd8984334a",
   "metadata": {},
   "outputs": [
    {
     "data": {
      "text/plain": [
       "[100, 12, 23, 54, 65, 76]"
      ]
     },
     "execution_count": 2,
     "metadata": {},
     "output_type": "execute_result"
    }
   ],
   "source": [
    "l"
   ]
  },
  {
   "cell_type": "code",
   "execution_count": 3,
   "id": "102aa44a-ff4e-464e-ab78-76ccf18d7631",
   "metadata": {},
   "outputs": [
    {
     "data": {
      "text/plain": [
       "True"
      ]
     },
     "execution_count": 3,
     "metadata": {},
     "output_type": "execute_result"
    }
   ],
   "source": [
    "100 in l"
   ]
  },
  {
   "cell_type": "code",
   "execution_count": 4,
   "id": "8780386b-e4ad-48c5-953e-f2c158cd58ce",
   "metadata": {},
   "outputs": [
    {
     "name": "stdout",
     "output_type": "stream",
     "text": [
      "100\n",
      "12\n",
      "23\n",
      "54\n",
      "65\n",
      "76\n"
     ]
    }
   ],
   "source": [
    "for i in l:\n",
    "    print(i)"
   ]
  },
  {
   "cell_type": "code",
   "execution_count": 5,
   "id": "b0d4c946-8c6d-4cc5-a846-1fe87076e340",
   "metadata": {},
   "outputs": [
    {
     "name": "stdout",
     "output_type": "stream",
     "text": [
      "(0, 100)\n",
      "(1, 12)\n",
      "(2, 23)\n",
      "(3, 54)\n",
      "(4, 65)\n",
      "(5, 76)\n"
     ]
    }
   ],
   "source": [
    "for i in enumerate(l):\n",
    "    print(i)"
   ]
  },
  {
   "cell_type": "code",
   "execution_count": 6,
   "id": "f477080f-3277-423f-8e0d-7322b0cc7904",
   "metadata": {},
   "outputs": [
    {
     "data": {
      "text/plain": [
       "[100, 12, 23, 54, 65, 76]"
      ]
     },
     "execution_count": 6,
     "metadata": {},
     "output_type": "execute_result"
    }
   ],
   "source": [
    "l"
   ]
  },
  {
   "cell_type": "code",
   "execution_count": 7,
   "id": "ea75fea3-04d4-4dd3-8017-a1e7cf7e3201",
   "metadata": {},
   "outputs": [],
   "source": [
    "l2=[3, True, 9.4]"
   ]
  },
  {
   "cell_type": "code",
   "execution_count": 8,
   "id": "d9c0b96d-aff5-4dc3-83b9-4b197f29939f",
   "metadata": {},
   "outputs": [],
   "source": [
    "l2.extend(l)"
   ]
  },
  {
   "cell_type": "code",
   "execution_count": 9,
   "id": "530acc1c-08aa-4af3-991f-b24139a63f55",
   "metadata": {},
   "outputs": [
    {
     "data": {
      "text/plain": [
       "[3, True, 9.4, 100, 12, 23, 54, 65, 76]"
      ]
     },
     "execution_count": 9,
     "metadata": {},
     "output_type": "execute_result"
    }
   ],
   "source": [
    "l2"
   ]
  },
  {
   "cell_type": "code",
   "execution_count": 10,
   "id": "94451f85-8234-46d8-9112-87e149f42d97",
   "metadata": {},
   "outputs": [],
   "source": [
    "l.sort()"
   ]
  },
  {
   "cell_type": "code",
   "execution_count": 11,
   "id": "266a2830-3aa7-494e-90b4-eaea6d4893a9",
   "metadata": {},
   "outputs": [
    {
     "data": {
      "text/plain": [
       "[12, 23, 54, 65, 76, 100]"
      ]
     },
     "execution_count": 11,
     "metadata": {},
     "output_type": "execute_result"
    }
   ],
   "source": [
    "l"
   ]
  },
  {
   "cell_type": "code",
   "execution_count": 13,
   "id": "3707dfac-6d12-4484-954e-fc6f91af9e7d",
   "metadata": {},
   "outputs": [],
   "source": [
    "l.sort(reverse=True)"
   ]
  },
  {
   "cell_type": "code",
   "execution_count": 14,
   "id": "c60ac413-ad04-4456-9e5e-ec3df8d8f057",
   "metadata": {},
   "outputs": [
    {
     "data": {
      "text/plain": [
       "[100, 76, 65, 54, 23, 12]"
      ]
     },
     "execution_count": 14,
     "metadata": {},
     "output_type": "execute_result"
    }
   ],
   "source": [
    "l"
   ]
  },
  {
   "cell_type": "code",
   "execution_count": 15,
   "id": "e14e6ebf-cb09-428e-b60c-fee6ef434bf5",
   "metadata": {},
   "outputs": [
    {
     "data": {
      "text/plain": [
       "[3, True, 9.4, 100, 12, 23, 54, 65, 76]"
      ]
     },
     "execution_count": 15,
     "metadata": {},
     "output_type": "execute_result"
    }
   ],
   "source": [
    "l2"
   ]
  },
  {
   "cell_type": "code",
   "execution_count": 16,
   "id": "b9ac5b69-9375-4d93-b8f6-f4631f5b332f",
   "metadata": {},
   "outputs": [
    {
     "data": {
      "text/plain": [
       "['a', 'b', 'f', 'd', 'k']"
      ]
     },
     "execution_count": 16,
     "metadata": {},
     "output_type": "execute_result"
    }
   ],
   "source": [
    "l4=['a', 'b', 'f', 'd', 'k']\n",
    "l4"
   ]
  },
  {
   "cell_type": "code",
   "execution_count": 18,
   "id": "aead393e-96f0-45a4-8b8d-807f737ff66f",
   "metadata": {},
   "outputs": [
    {
     "data": {
      "text/plain": [
       "['a', 'b', 'd', 'f', 'k']"
      ]
     },
     "execution_count": 18,
     "metadata": {},
     "output_type": "execute_result"
    }
   ],
   "source": [
    "l4.sort()\n",
    "l4"
   ]
  },
  {
   "cell_type": "code",
   "execution_count": 19,
   "id": "4114635f-5070-4975-b517-761847d1a186",
   "metadata": {},
   "outputs": [
    {
     "data": {
      "text/plain": [
       "['k', 'f', 'd', 'b', 'a']"
      ]
     },
     "execution_count": 19,
     "metadata": {},
     "output_type": "execute_result"
    }
   ],
   "source": [
    "l4.reverse()\n",
    "l4"
   ]
  },
  {
   "cell_type": "code",
   "execution_count": 20,
   "id": "575cdf5a-131b-49cf-89e9-bab5d5d50717",
   "metadata": {},
   "outputs": [
    {
     "data": {
      "text/plain": [
       "True"
      ]
     },
     "execution_count": 20,
     "metadata": {},
     "output_type": "execute_result"
    }
   ],
   "source": [
    "any(l)"
   ]
  },
  {
   "cell_type": "code",
   "execution_count": 21,
   "id": "11a5f847-bd67-4666-87e5-2b2b29dc2fd6",
   "metadata": {},
   "outputs": [
    {
     "data": {
      "text/plain": [
       "True"
      ]
     },
     "execution_count": 21,
     "metadata": {},
     "output_type": "execute_result"
    }
   ],
   "source": [
    "all(l)"
   ]
  },
  {
   "cell_type": "markdown",
   "id": "c93906a7-2739-4b45-ac5b-2310d4a43614",
   "metadata": {},
   "source": [
    "# List Datastructure has Completed"
   ]
  },
  {
   "cell_type": "code",
   "execution_count": null,
   "id": "a831dbe8-b2ac-401e-b0bb-8775c1883e65",
   "metadata": {},
   "outputs": [],
   "source": []
  },
  {
   "cell_type": "markdown",
   "id": "051e7e6f-ee3a-47f2-9932-2a27976d7bd7",
   "metadata": {},
   "source": [
    "# Tuple  Start"
   ]
  },
  {
   "cell_type": "code",
   "execution_count": 22,
   "id": "32c5fc27-574f-44e2-a979-ba0374c5600d",
   "metadata": {},
   "outputs": [
    {
     "data": {
      "text/plain": [
       "()"
      ]
     },
     "execution_count": 22,
     "metadata": {},
     "output_type": "execute_result"
    }
   ],
   "source": [
    "t=()\n",
    "t"
   ]
  },
  {
   "cell_type": "code",
   "execution_count": 23,
   "id": "ca2e3346-d743-445d-a2e3-383fd1f14100",
   "metadata": {},
   "outputs": [
    {
     "data": {
      "text/plain": [
       "tuple"
      ]
     },
     "execution_count": 23,
     "metadata": {},
     "output_type": "execute_result"
    }
   ],
   "source": [
    "type(t)"
   ]
  },
  {
   "cell_type": "code",
   "execution_count": 36,
   "id": "3e37ac53-adc9-4721-9a3f-1f20a4a6e53b",
   "metadata": {},
   "outputs": [
    {
     "data": {
      "text/plain": [
       "(10, 30, 12)"
      ]
     },
     "execution_count": 36,
     "metadata": {},
     "output_type": "execute_result"
    }
   ],
   "source": [
    "t1=(10, 30, 12)\n",
    "t1\n"
   ]
  },
  {
   "cell_type": "code",
   "execution_count": 37,
   "id": "97709cf2-7bac-42fb-b7c6-8cb6ac005440",
   "metadata": {},
   "outputs": [
    {
     "data": {
      "text/plain": [
       "('Shashank', 90909099778, 'OOh0976', 981914585)"
      ]
     },
     "execution_count": 37,
     "metadata": {},
     "output_type": "execute_result"
    }
   ],
   "source": [
    "Sbi=('Shashank', 90909099778, 'OOh0976', 981914585)\n",
    "Sbi"
   ]
  },
  {
   "cell_type": "code",
   "execution_count": 38,
   "id": "113c88f5-0ea0-489e-8c2b-2009c5d6bc51",
   "metadata": {},
   "outputs": [],
   "source": [
    "del t1"
   ]
  },
  {
   "cell_type": "markdown",
   "id": "4520e1fc-7523-4074-a857-adbbb247ad2e",
   "metadata": {},
   "source": [
    "# Tuple also we are Completed"
   ]
  },
  {
   "cell_type": "markdown",
   "id": "fdd917f1-b01e-458f-a4b9-3a86c8625d8b",
   "metadata": {},
   "source": [
    "# Sets Datastructure"
   ]
  },
  {
   "cell_type": "code",
   "execution_count": null,
   "id": "32f0c3c2-059a-40a4-a2f4-f86f2c6714bc",
   "metadata": {},
   "outputs": [],
   "source": [
    "# set and dict both have {}"
   ]
  },
  {
   "cell_type": "code",
   "execution_count": 1,
   "id": "819d9186-5fc6-470c-bbb2-f7fe9f900a18",
   "metadata": {},
   "outputs": [],
   "source": [
    "s={}"
   ]
  },
  {
   "cell_type": "code",
   "execution_count": 2,
   "id": "23720079-72af-4fec-a668-cf09092ac296",
   "metadata": {},
   "outputs": [
    {
     "data": {
      "text/plain": [
       "dict"
      ]
     },
     "execution_count": 2,
     "metadata": {},
     "output_type": "execute_result"
    }
   ],
   "source": [
    "type(s)"
   ]
  },
  {
   "cell_type": "code",
   "execution_count": 9,
   "id": "55548842-03ec-4759-891a-8f07a9978aa6",
   "metadata": {},
   "outputs": [
    {
     "data": {
      "text/plain": [
       "set()"
      ]
     },
     "execution_count": 9,
     "metadata": {},
     "output_type": "execute_result"
    }
   ],
   "source": [
    "s1 = set()\n",
    "s1"
   ]
  },
  {
   "cell_type": "code",
   "execution_count": 10,
   "id": "d50efd19-3def-4353-9935-bb5963046115",
   "metadata": {},
   "outputs": [],
   "source": [
    "s1.add(20)"
   ]
  },
  {
   "cell_type": "code",
   "execution_count": 11,
   "id": "08b223c9-0548-4d56-95fd-f95f08e42a2a",
   "metadata": {},
   "outputs": [
    {
     "data": {
      "text/plain": [
       "{20}"
      ]
     },
     "execution_count": 11,
     "metadata": {},
     "output_type": "execute_result"
    }
   ],
   "source": [
    "s1"
   ]
  },
  {
   "cell_type": "code",
   "execution_count": 12,
   "id": "9b526bf7-0e3a-4735-9ea9-670fede5e256",
   "metadata": {},
   "outputs": [
    {
     "data": {
      "text/plain": [
       "{20, 40, 50, 60}"
      ]
     },
     "execution_count": 12,
     "metadata": {},
     "output_type": "execute_result"
    }
   ],
   "source": [
    "s1.add(40)\n",
    "s1.add(50)\n",
    "s1.add(60)\n",
    "s1"
   ]
  },
  {
   "cell_type": "code",
   "execution_count": 13,
   "id": "4fab4142-0612-4493-be4d-fdda5fd282af",
   "metadata": {},
   "outputs": [
    {
     "data": {
      "text/plain": [
       "set()"
      ]
     },
     "execution_count": 13,
     "metadata": {},
     "output_type": "execute_result"
    }
   ],
   "source": [
    "s2= set()\n",
    "s2"
   ]
  },
  {
   "cell_type": "code",
   "execution_count": 16,
   "id": "cfa15cbc-72dc-4a12-9e17-bad2bd20ae81",
   "metadata": {},
   "outputs": [
    {
     "data": {
      "text/plain": [
       "{(1+2j), 1.5, 25, True, 'nit'}"
      ]
     },
     "execution_count": 16,
     "metadata": {},
     "output_type": "execute_result"
    }
   ],
   "source": [
    "s2.add(25)\n",
    "s2.add(1.5)\n",
    "s2.add(1+2j)\n",
    "s2.add(True)\n",
    "s2.add('nit')\n",
    "s2"
   ]
  },
  {
   "cell_type": "code",
   "execution_count": 18,
   "id": "992b797d-d921-41f8-ac3d-75e6cfd54993",
   "metadata": {},
   "outputs": [
    {
     "name": "stdout",
     "output_type": "stream",
     "text": [
      "{40, 50, 20, 60}\n",
      "{True, 1.5, (1+2j), 'nit', 25}\n"
     ]
    }
   ],
   "source": [
    "print(s1)\n",
    "print(s2)"
   ]
  },
  {
   "cell_type": "code",
   "execution_count": null,
   "id": "1ee5b9dd-f2a7-4235-9a20-14d6c221915e",
   "metadata": {},
   "outputs": [],
   "source": [
    "# in set declare the same data type is ordered"
   ]
  },
  {
   "cell_type": "code",
   "execution_count": 19,
   "id": "12d0ca26-2bb4-4481-8135-f19ea6f48b4b",
   "metadata": {},
   "outputs": [
    {
     "data": {
      "text/plain": [
       "False"
      ]
     },
     "execution_count": 19,
     "metadata": {},
     "output_type": "execute_result"
    }
   ],
   "source": [
    "id(s1) == id (s2)"
   ]
  },
  {
   "cell_type": "code",
   "execution_count": 20,
   "id": "aa8456cd-1fda-43f1-9c86-7af5137d446e",
   "metadata": {},
   "outputs": [
    {
     "data": {
      "text/plain": [
       "{(1+2j), 1.5, 25, True, 'nit'}"
      ]
     },
     "execution_count": 20,
     "metadata": {},
     "output_type": "execute_result"
    }
   ],
   "source": [
    "s3 = s2.copy()\n",
    "s3"
   ]
  },
  {
   "cell_type": "code",
   "execution_count": 21,
   "id": "3d5adbf5-dbc3-41ba-8337-7da323fcd99c",
   "metadata": {},
   "outputs": [
    {
     "data": {
      "text/plain": [
       "True"
      ]
     },
     "execution_count": 21,
     "metadata": {},
     "output_type": "execute_result"
    }
   ],
   "source": [
    "s2 == s3"
   ]
  },
  {
   "cell_type": "code",
   "execution_count": 22,
   "id": "b29466b7-6e83-425f-81b7-15f68d95dece",
   "metadata": {},
   "outputs": [
    {
     "name": "stdout",
     "output_type": "stream",
     "text": [
      "{40, 50, 20, 60}\n",
      "{True, 1.5, (1+2j), 'nit', 25}\n",
      "{True, 1.5, (1+2j), 'nit', 25}\n"
     ]
    }
   ],
   "source": [
    "print(s1)\n",
    "print(s2)\n",
    "print(s3)"
   ]
  },
  {
   "cell_type": "code",
   "execution_count": 23,
   "id": "35341e70-34a8-4fbc-9a41-d2e05ce16f82",
   "metadata": {},
   "outputs": [
    {
     "data": {
      "text/plain": [
       "{(1+2j), 1.5, 25, True, 'nit'}"
      ]
     },
     "execution_count": 23,
     "metadata": {},
     "output_type": "execute_result"
    }
   ],
   "source": [
    "s2"
   ]
  },
  {
   "cell_type": "code",
   "execution_count": 24,
   "id": "4319c3db-036a-485e-b179-63bba6df35e6",
   "metadata": {},
   "outputs": [
    {
     "data": {
      "text/plain": [
       "True"
      ]
     },
     "execution_count": 24,
     "metadata": {},
     "output_type": "execute_result"
    }
   ],
   "source": [
    "s2.pop()"
   ]
  },
  {
   "cell_type": "code",
   "execution_count": 25,
   "id": "3e0fad5c-8c48-4118-a4c6-a5fd8ac1182f",
   "metadata": {},
   "outputs": [
    {
     "data": {
      "text/plain": [
       "{(1+2j), 1.5, 25, 'nit'}"
      ]
     },
     "execution_count": 25,
     "metadata": {},
     "output_type": "execute_result"
    }
   ],
   "source": [
    "s2"
   ]
  },
  {
   "cell_type": "code",
   "execution_count": 26,
   "id": "50e58335-2528-43aa-bdb9-dc245a867ef2",
   "metadata": {},
   "outputs": [
    {
     "data": {
      "text/plain": [
       "{(1+2j), 1.5, 25, True, 'nit'}"
      ]
     },
     "execution_count": 26,
     "metadata": {},
     "output_type": "execute_result"
    }
   ],
   "source": [
    "s3"
   ]
  },
  {
   "cell_type": "code",
   "execution_count": 27,
   "id": "3d9241d9-4f0a-4678-a0c0-8a686f898c0e",
   "metadata": {},
   "outputs": [],
   "source": [
    "s3.remove((1+2j))"
   ]
  },
  {
   "cell_type": "code",
   "execution_count": 28,
   "id": "9ee9e0d3-88e9-40d9-a9c8-c5261e2a7ab5",
   "metadata": {},
   "outputs": [
    {
     "data": {
      "text/plain": [
       "{1.5, 25, True, 'nit'}"
      ]
     },
     "execution_count": 28,
     "metadata": {},
     "output_type": "execute_result"
    }
   ],
   "source": [
    "s3"
   ]
  },
  {
   "cell_type": "code",
   "execution_count": null,
   "id": "f291a78f-1dda-4d00-9cbc-e4c87e6f237f",
   "metadata": {},
   "outputs": [],
   "source": [
    "# discard never gives use error \n",
    "# if the no. id available then it will delete\n",
    "# if the no. is not avail. then it wont delete but also it wont gives you a bugs"
   ]
  },
  {
   "cell_type": "code",
   "execution_count": 29,
   "id": "9f91d283-9ee5-4653-951b-c9c383a21573",
   "metadata": {},
   "outputs": [
    {
     "data": {
      "text/plain": [
       "{1.5, 25, True, 'nit'}"
      ]
     },
     "execution_count": 29,
     "metadata": {},
     "output_type": "execute_result"
    }
   ],
   "source": [
    "s3.discard(293)\n",
    "s3"
   ]
  },
  {
   "cell_type": "code",
   "execution_count": 30,
   "id": "d29a3eb7-bff3-451b-8fcb-2cde711b4121",
   "metadata": {},
   "outputs": [
    {
     "name": "stdout",
     "output_type": "stream",
     "text": [
      "{40, 50, 20, 60}\n",
      "{1.5, (1+2j), 'nit', 25}\n",
      "{True, 1.5, 'nit', 25}\n"
     ]
    }
   ],
   "source": [
    "print(s1)\n",
    "print(s2)\n",
    "print(s3)\n"
   ]
  },
  {
   "cell_type": "code",
   "execution_count": 44,
   "id": "f3666e51-da88-4559-a7b2-abf7f71291eb",
   "metadata": {},
   "outputs": [
    {
     "name": "stdout",
     "output_type": "stream",
     "text": [
      "(0, 40)\n",
      "(1, 50)\n",
      "(2, 20)\n",
      "(3, 60)\n"
     ]
    }
   ],
   "source": [
    "for i in enumerate(s1):\n",
    "    print(i)"
   ]
  },
  {
   "cell_type": "code",
   "execution_count": 33,
   "id": "837fc432-fa87-4892-b281-6ad0344675c2",
   "metadata": {},
   "outputs": [
    {
     "name": "stdout",
     "output_type": "stream",
     "text": [
      "40\n",
      "50\n",
      "20\n",
      "60\n"
     ]
    }
   ],
   "source": [
    "for i in s1:\n",
    "    print(i)"
   ]
  },
  {
   "cell_type": "code",
   "execution_count": 3,
   "id": "5c80fbd0-5bf7-49b1-9aa8-e5bc23e41651",
   "metadata": {},
   "outputs": [],
   "source": [
    "a= {1,2,3,4,5}\n",
    "b= {4,5,6,7,8}\n",
    "c= {8,9,10}"
   ]
  },
  {
   "cell_type": "code",
   "execution_count": 4,
   "id": "f69c5015-27dd-41e0-951e-9e143737d8ec",
   "metadata": {},
   "outputs": [
    {
     "data": {
      "text/plain": [
       "{1, 2, 3, 4, 5, 6, 7, 8}"
      ]
     },
     "execution_count": 4,
     "metadata": {},
     "output_type": "execute_result"
    }
   ],
   "source": [
    "a.union(b)"
   ]
  },
  {
   "cell_type": "code",
   "execution_count": 5,
   "id": "a7c9f855-57fc-4bb5-ad68-fcc4fbade86e",
   "metadata": {},
   "outputs": [
    {
     "data": {
      "text/plain": [
       "{1, 2, 3, 4, 5, 8, 9, 10}"
      ]
     },
     "execution_count": 5,
     "metadata": {},
     "output_type": "execute_result"
    }
   ],
   "source": [
    "a|c"
   ]
  },
  {
   "cell_type": "code",
   "execution_count": 6,
   "id": "53ddcf27-f2f0-4e15-ba53-21a153d20aff",
   "metadata": {},
   "outputs": [],
   "source": [
    "a= {1,2,3,4,5}\n",
    "b= {4,5,6,7,8}\n",
    "c= {8,9,10}"
   ]
  },
  {
   "cell_type": "code",
   "execution_count": 7,
   "id": "ad1801fb-d5ce-4b55-aa1a-cc52e35d5908",
   "metadata": {},
   "outputs": [
    {
     "data": {
      "text/plain": [
       "{4, 5, 6, 7, 8, 9, 10}"
      ]
     },
     "execution_count": 7,
     "metadata": {},
     "output_type": "execute_result"
    }
   ],
   "source": [
    "b|c"
   ]
  },
  {
   "cell_type": "code",
   "execution_count": 8,
   "id": "d418d757-2423-4b30-904c-8909d99595fe",
   "metadata": {},
   "outputs": [
    {
     "data": {
      "text/plain": [
       "{1, 2, 3, 4, 5, 6, 7, 8, 9, 10}"
      ]
     },
     "execution_count": 8,
     "metadata": {},
     "output_type": "execute_result"
    }
   ],
   "source": [
    "a|b|c"
   ]
  },
  {
   "cell_type": "markdown",
   "id": "53f597d5-e762-4868-8949-23d2d64b0337",
   "metadata": {},
   "source": [
    "# set basic we are completed"
   ]
  },
  {
   "cell_type": "code",
   "execution_count": 9,
   "id": "8a8d11a5-34f4-4837-9837-e1f4aa2a19f4",
   "metadata": {},
   "outputs": [
    {
     "name": "stdout",
     "output_type": "stream",
     "text": [
      "{1, 2, 3, 4, 5}\n",
      "{4, 5, 6, 7, 8}\n",
      "{8, 9, 10}\n"
     ]
    }
   ],
   "source": [
    "print(a)\n",
    "print(b)\n",
    "print(c)"
   ]
  },
  {
   "cell_type": "code",
   "execution_count": 10,
   "id": "798fb9ac-cf02-40a7-b5e5-09b7e8c16b4b",
   "metadata": {},
   "outputs": [
    {
     "data": {
      "text/plain": [
       "{1, 2, 3}"
      ]
     },
     "execution_count": 10,
     "metadata": {},
     "output_type": "execute_result"
    }
   ],
   "source": [
    "a.difference(b)"
   ]
  },
  {
   "cell_type": "code",
   "execution_count": 11,
   "id": "75b50560-806f-4d44-b544-3e62e62b4f06",
   "metadata": {},
   "outputs": [
    {
     "data": {
      "text/plain": [
       "{1, 2, 3, 4, 5}"
      ]
     },
     "execution_count": 11,
     "metadata": {},
     "output_type": "execute_result"
    }
   ],
   "source": [
    "a.difference(c)"
   ]
  },
  {
   "cell_type": "code",
   "execution_count": 43,
   "id": "3e4c7d35-2b61-46a1-aac8-d1882c830ff2",
   "metadata": {},
   "outputs": [
    {
     "data": {
      "text/plain": [
       "{8, 9, 10}"
      ]
     },
     "execution_count": 43,
     "metadata": {},
     "output_type": "execute_result"
    }
   ],
   "source": [
    "c.difference(a)"
   ]
  },
  {
   "cell_type": "code",
   "execution_count": 13,
   "id": "dd13cee2-4162-465a-aea7-771d92d02d4d",
   "metadata": {},
   "outputs": [
    {
     "name": "stdout",
     "output_type": "stream",
     "text": [
      "{1, 2, 3, 4, 5}\n",
      "{4, 5, 6, 7, 8}\n",
      "{8, 9, 10}\n"
     ]
    }
   ],
   "source": [
    "print(a)\n",
    "print(b)\n",
    "print(c)"
   ]
  },
  {
   "cell_type": "code",
   "execution_count": 14,
   "id": "51568142-795e-4db1-9a24-783616737ff7",
   "metadata": {},
   "outputs": [
    {
     "data": {
      "text/plain": [
       "{8, 9, 10}"
      ]
     },
     "execution_count": 14,
     "metadata": {},
     "output_type": "execute_result"
    }
   ],
   "source": [
    "c-a"
   ]
  },
  {
   "cell_type": "code",
   "execution_count": 15,
   "id": "3657ad70-30ab-4388-a903-7382177286e4",
   "metadata": {},
   "outputs": [
    {
     "data": {
      "text/plain": [
       "{1, 2, 3, 6, 7, 8}"
      ]
     },
     "execution_count": 15,
     "metadata": {},
     "output_type": "execute_result"
    }
   ],
   "source": [
    "a.symmetric_difference(b)"
   ]
  },
  {
   "cell_type": "code",
   "execution_count": 16,
   "id": "37c4b6a3-b5e4-4a17-953b-7d6b2afe0e7a",
   "metadata": {},
   "outputs": [
    {
     "data": {
      "text/plain": [
       "{1, 2, 3, 4, 5, 8, 9, 10}"
      ]
     },
     "execution_count": 16,
     "metadata": {},
     "output_type": "execute_result"
    }
   ],
   "source": [
    "c ^ a"
   ]
  },
  {
   "cell_type": "code",
   "execution_count": 17,
   "id": "4d084504-2599-40a3-8ea5-f954e8cc1ae2",
   "metadata": {},
   "outputs": [
    {
     "data": {
      "text/plain": [
       "{1, 2, 3, 6, 7, 8}"
      ]
     },
     "execution_count": 17,
     "metadata": {},
     "output_type": "execute_result"
    }
   ],
   "source": [
    "b ^ a"
   ]
  },
  {
   "cell_type": "code",
   "execution_count": 18,
   "id": "bab767ef-9377-46a4-8a29-08c1a39e2525",
   "metadata": {},
   "outputs": [
    {
     "name": "stdout",
     "output_type": "stream",
     "text": [
      "{1, 2, 3, 4, 5}\n",
      "{4, 5, 6, 7, 8}\n",
      "{8, 9, 10}\n"
     ]
    }
   ],
   "source": [
    "print(a)\n",
    "print(b)\n",
    "print(c)"
   ]
  },
  {
   "cell_type": "code",
   "execution_count": 19,
   "id": "4fc903c5-c6f9-481f-8c43-50a8ae106459",
   "metadata": {},
   "outputs": [],
   "source": [
    "a.symmetric_difference_update(b)"
   ]
  },
  {
   "cell_type": "code",
   "execution_count": 20,
   "id": "9fb7644e-4d13-40b4-89cb-8edacb4390c7",
   "metadata": {},
   "outputs": [
    {
     "data": {
      "text/plain": [
       "{1, 2, 3, 6, 7, 8}"
      ]
     },
     "execution_count": 20,
     "metadata": {},
     "output_type": "execute_result"
    }
   ],
   "source": [
    "a"
   ]
  },
  {
   "cell_type": "code",
   "execution_count": 23,
   "id": "53f03162-fe2b-4a72-a166-f03d1106c8d0",
   "metadata": {},
   "outputs": [
    {
     "name": "stdout",
     "output_type": "stream",
     "text": [
      "{1, 2, 3, 6, 7, 8}\n",
      "{4, 5, 6, 7, 8}\n",
      "{8, 9, 10}\n"
     ]
    }
   ],
   "source": [
    "print(a)\n",
    "print(b)\n",
    "print(c)"
   ]
  },
  {
   "cell_type": "code",
   "execution_count": 21,
   "id": "8ccf8187-2f66-49fb-98f8-50c69e116695",
   "metadata": {},
   "outputs": [
    {
     "data": {
      "text/plain": [
       "{6, 7, 8}"
      ]
     },
     "execution_count": 21,
     "metadata": {},
     "output_type": "execute_result"
    }
   ],
   "source": [
    "a.intersection(b)"
   ]
  },
  {
   "cell_type": "code",
   "execution_count": 22,
   "id": "b63729e8-db8a-4f94-a310-93f5530187a7",
   "metadata": {},
   "outputs": [
    {
     "data": {
      "text/plain": [
       "{6, 7, 8}"
      ]
     },
     "execution_count": 22,
     "metadata": {},
     "output_type": "execute_result"
    }
   ],
   "source": [
    "a & b"
   ]
  },
  {
   "cell_type": "code",
   "execution_count": null,
   "id": "4523f57f-bb3b-4373-ba78-ba161f3fa268",
   "metadata": {},
   "outputs": [],
   "source": [
    "# Superse(Dad)\n",
    "# Subset(Son)\n",
    "# disjoint(neighbour)"
   ]
  },
  {
   "cell_type": "code",
   "execution_count": 27,
   "id": "eb53faea-8a8e-436b-b728-4f91e6e4f35c",
   "metadata": {},
   "outputs": [],
   "source": [
    "A1 = {1,2,3,4,5,6,7,8,9}\n",
    "B1= {3,4,5,6,7,8}\n",
    "C1 = {10,20,30,40}"
   ]
  },
  {
   "cell_type": "code",
   "execution_count": 28,
   "id": "a8baaff0-af9b-4e67-9a12-f073bd69970e",
   "metadata": {},
   "outputs": [
    {
     "data": {
      "text/plain": [
       "True"
      ]
     },
     "execution_count": 28,
     "metadata": {},
     "output_type": "execute_result"
    }
   ],
   "source": [
    "A1.issuperset(B1)"
   ]
  },
  {
   "cell_type": "code",
   "execution_count": 29,
   "id": "e247ea11-7381-48c3-be55-8b43f43321e8",
   "metadata": {},
   "outputs": [
    {
     "data": {
      "text/plain": [
       "True"
      ]
     },
     "execution_count": 29,
     "metadata": {},
     "output_type": "execute_result"
    }
   ],
   "source": [
    "C1.isdisjoint(B1)"
   ]
  },
  {
   "cell_type": "code",
   "execution_count": null,
   "id": "5727a27a-1a70-46c0-a445-3e04f2abea70",
   "metadata": {},
   "outputs": [],
   "source": [
    "# 3 database--> Must to learn.\n",
    "# 1- Sql db\n",
    "# 2- Nosql db\n",
    "# 3- Vector db\n",
    "# 4- Cloud azur| aws | gcp"
   ]
  },
  {
   "cell_type": "markdown",
   "id": "9ac35c26-d29f-45ae-9f3f-cce4a02e15b6",
   "metadata": {},
   "source": [
    "# Dictionary"
   ]
  },
  {
   "cell_type": "code",
   "execution_count": null,
   "id": "471b38a7-32c6-41dc-9ae2-5a717f5e84e5",
   "metadata": {},
   "outputs": [],
   "source": [
    "# dictionay is mutable\n",
    "# key & value pair "
   ]
  },
  {
   "cell_type": "code",
   "execution_count": 31,
   "id": "6fe68801-ba65-49fe-b1fe-768ef2f0fd3d",
   "metadata": {},
   "outputs": [
    {
     "data": {
      "text/plain": [
       "{}"
      ]
     },
     "execution_count": 31,
     "metadata": {},
     "output_type": "execute_result"
    }
   ],
   "source": [
    "d ={}\n",
    "d"
   ]
  },
  {
   "cell_type": "code",
   "execution_count": 32,
   "id": "587e3b43-8d93-47c6-8277-fecaccb6a6c7",
   "metadata": {},
   "outputs": [
    {
     "data": {
      "text/plain": [
       "dict"
      ]
     },
     "execution_count": 32,
     "metadata": {},
     "output_type": "execute_result"
    }
   ],
   "source": [
    "type(d)"
   ]
  },
  {
   "cell_type": "code",
   "execution_count": 40,
   "id": "5824939d-78d2-4b6d-87f9-071fd0c137b3",
   "metadata": {},
   "outputs": [
    {
     "data": {
      "text/plain": [
       "{1: 'one', 2: 'Two', 3: 'Three'}"
      ]
     },
     "execution_count": 40,
     "metadata": {},
     "output_type": "execute_result"
    }
   ],
   "source": [
    "d1 = {1: 'one', 2: 'Two', 3: 'Three'}\n",
    "d1"
   ]
  },
  {
   "cell_type": "code",
   "execution_count": 41,
   "id": "9914e49b-e6b3-4b8d-b6d3-ae739792a2cb",
   "metadata": {},
   "outputs": [
    {
     "data": {
      "text/plain": [
       "{'one': 1, 'two': 2, 'three': 3}"
      ]
     },
     "execution_count": 41,
     "metadata": {},
     "output_type": "execute_result"
    }
   ],
   "source": [
    "d2 = {'one': 1, 'two': 2, 'three': 3}\n",
    "d2"
   ]
  },
  {
   "cell_type": "code",
   "execution_count": 42,
   "id": "6643b2ca-bbc0-4501-96f3-2083ff746cb7",
   "metadata": {},
   "outputs": [
    {
     "data": {
      "text/plain": [
       "dict_keys(['one', 'two', 'three'])"
      ]
     },
     "execution_count": 42,
     "metadata": {},
     "output_type": "execute_result"
    }
   ],
   "source": [
    "d2.keys()"
   ]
  },
  {
   "cell_type": "code",
   "execution_count": 43,
   "id": "a145a6de-9e6c-4239-a883-5a45f14a3044",
   "metadata": {},
   "outputs": [
    {
     "data": {
      "text/plain": [
       "dict_values([1, 2, 3])"
      ]
     },
     "execution_count": 43,
     "metadata": {},
     "output_type": "execute_result"
    }
   ],
   "source": [
    "d2.values()"
   ]
  },
  {
   "cell_type": "code",
   "execution_count": 44,
   "id": "846b6909-aa2e-48fd-9365-559424ae326b",
   "metadata": {},
   "outputs": [
    {
     "data": {
      "text/plain": [
       "dict_items([('one', 1), ('two', 2), ('three', 3)])"
      ]
     },
     "execution_count": 44,
     "metadata": {},
     "output_type": "execute_result"
    }
   ],
   "source": [
    "d2.items()"
   ]
  },
  {
   "cell_type": "code",
   "execution_count": 45,
   "id": "d50b4345-b1c4-41b1-8e9c-11095f1b4118",
   "metadata": {},
   "outputs": [
    {
     "data": {
      "text/plain": [
       "3"
      ]
     },
     "execution_count": 45,
     "metadata": {},
     "output_type": "execute_result"
    }
   ],
   "source": [
    "len(d2)"
   ]
  },
  {
   "cell_type": "markdown",
   "id": "d538f7fb-4b5f-4bc9-b7cd-ba05333de97e",
   "metadata": {},
   "source": [
    "# String"
   ]
  },
  {
   "cell_type": "code",
   "execution_count": 2,
   "id": "43dcaa50-4faa-49c1-af98-7f3e040ce42e",
   "metadata": {},
   "outputs": [
    {
     "name": "stdout",
     "output_type": "stream",
     "text": [
      "D:\\navbar\n"
     ]
    }
   ],
   "source": [
    "print(r'D:\\navbar') #use to get or access the path"
   ]
  },
  {
   "cell_type": "code",
   "execution_count": 3,
   "id": "e369654f-9415-42f3-9c03-5ec74d02319d",
   "metadata": {},
   "outputs": [
    {
     "data": {
      "text/plain": [
       "'ab'"
      ]
     },
     "execution_count": 3,
     "metadata": {},
     "output_type": "execute_result"
    }
   ],
   "source": [
    "'a' 'b'"
   ]
  },
  {
   "cell_type": "code",
   "execution_count": 9,
   "id": "c5b214b0-503d-4cea-a96a-55cf6112d298",
   "metadata": {},
   "outputs": [
    {
     "data": {
      "text/plain": [
       "'fine'"
      ]
     },
     "execution_count": 9,
     "metadata": {},
     "output_type": "execute_result"
    }
   ],
   "source": [
    "name = 'fine'\n",
    "name"
   ]
  },
  {
   "cell_type": "code",
   "execution_count": 8,
   "id": "5cc0b2c9-fda5-45c6-b84c-765ad71e7ee4",
   "metadata": {},
   "outputs": [
    {
     "name": "stdout",
     "output_type": "stream",
     "text": [
      "Welcome to Python 3.13's help utility! If this is your first time using\n",
      "Python, you should definitely check out the tutorial at\n",
      "https://docs.python.org/3.13/tutorial/.\n",
      "\n",
      "Enter the name of any module, keyword, or topic to get help on writing\n",
      "Python programs and using Python modules.  To get a list of available\n",
      "modules, keywords, symbols, or topics, enter \"modules\", \"keywords\",\n",
      "\"symbols\", or \"topics\".\n",
      "\n",
      "Each module also comes with a one-line summary of what it does; to list\n",
      "the modules whose name or summary contain a given string such as \"spam\",\n",
      "enter \"modules spam\".\n",
      "\n",
      "To quit this help utility and return to the interpreter,\n",
      "enter \"q\", \"quit\" or \"exit\".\n",
      "\n"
     ]
    },
    {
     "name": "stdin",
     "output_type": "stream",
     "text": [
      "help>  pyhton keywords\n"
     ]
    },
    {
     "name": "stdout",
     "output_type": "stream",
     "text": [
      "No Python documentation found for 'pyhton keywords'.\n",
      "Use help() to get the interactive help utility.\n",
      "Use help(str) for help on the str class.\n",
      "\n"
     ]
    },
    {
     "name": "stdin",
     "output_type": "stream",
     "text": [
      "help>  keywords\n"
     ]
    },
    {
     "name": "stdout",
     "output_type": "stream",
     "text": [
      "\n",
      "Here is a list of the Python keywords.  Enter any keyword to get more help.\n",
      "\n",
      "False               class               from                or\n",
      "None                continue            global              pass\n",
      "True                def                 if                  raise\n",
      "and                 del                 import              return\n",
      "as                  elif                in                  try\n",
      "assert              else                is                  while\n",
      "async               except              lambda              with\n",
      "await               finally             nonlocal            yield\n",
      "break               for                 not                 \n",
      "\n",
      "\n",
      "You are now leaving help and returning to the Python interpreter.\n",
      "If you want to ask for help on a particular object directly from the\n",
      "interpreter, you can type \"help(object)\".  Executing \"help('string')\"\n",
      "has the same effect as typing a particular string at the help> prompt.\n"
     ]
    }
   ],
   "source": [
    "help()"
   ]
  },
  {
   "cell_type": "code",
   "execution_count": 49,
   "id": "1ba1d4a1-7056-45d3-997c-b9fa6a54fb10",
   "metadata": {},
   "outputs": [
    {
     "data": {
      "text/plain": [
       "3.14"
      ]
     },
     "execution_count": 49,
     "metadata": {},
     "output_type": "execute_result"
    }
   ],
   "source": [
    "Pi = 3.14\n",
    "Pi"
   ]
  },
  {
   "cell_type": "markdown",
   "id": "664daf8b-b9a1-4c31-bd9f-7ad5fbbaef77",
   "metadata": {},
   "source": [
    " # Number System\n",
    "01/07/25"
   ]
  },
  {
   "cell_type": "raw",
   "id": "dbee5416-02a7-4a29-88b6-83e469f202ba",
   "metadata": {},
   "source": [
    "1- Binary - base 2 (0b)\n",
    "2- octal - base  8(0o)\n",
    "3- Decimal - base 10 (0x)\n",
    "4- Hexadec - base 16 (0xa,b,c,d,e,f)"
   ]
  },
  {
   "cell_type": "code",
   "execution_count": 52,
   "id": "5711444e-4a99-4bd6-968f-131fa6272b86",
   "metadata": {},
   "outputs": [
    {
     "data": {
      "text/plain": [
       "10"
      ]
     },
     "execution_count": 52,
     "metadata": {},
     "output_type": "execute_result"
    }
   ],
   "source": [
    "10"
   ]
  },
  {
   "cell_type": "code",
   "execution_count": 53,
   "id": "dcd64568-d7f2-4226-93e7-6c518ce3ee68",
   "metadata": {},
   "outputs": [
    {
     "data": {
      "text/plain": [
       "'0b11001'"
      ]
     },
     "execution_count": 53,
     "metadata": {},
     "output_type": "execute_result"
    }
   ],
   "source": [
    "bin(25)"
   ]
  },
  {
   "cell_type": "code",
   "execution_count": 54,
   "id": "6237c3f4-78bb-49ac-aa8a-fa31510fa99d",
   "metadata": {},
   "outputs": [
    {
     "data": {
      "text/plain": [
       "25"
      ]
     },
     "execution_count": 54,
     "metadata": {},
     "output_type": "execute_result"
    }
   ],
   "source": [
    "int(0b11001)"
   ]
  },
  {
   "cell_type": "code",
   "execution_count": 55,
   "id": "01d07bd3-f922-4fee-9278-48e261786439",
   "metadata": {},
   "outputs": [
    {
     "data": {
      "text/plain": [
       "'0o31'"
      ]
     },
     "execution_count": 55,
     "metadata": {},
     "output_type": "execute_result"
    }
   ],
   "source": [
    "oct(25)"
   ]
  },
  {
   "cell_type": "code",
   "execution_count": 56,
   "id": "f015d018-7d91-449c-addf-7ba123ab9c25",
   "metadata": {},
   "outputs": [
    {
     "data": {
      "text/plain": [
       "25"
      ]
     },
     "execution_count": 56,
     "metadata": {},
     "output_type": "execute_result"
    }
   ],
   "source": [
    " int(0o31)"
   ]
  },
  {
   "cell_type": "code",
   "execution_count": 57,
   "id": "a6a850b2-190f-486b-9d40-4d9c4e6b51e8",
   "metadata": {},
   "outputs": [
    {
     "data": {
      "text/plain": [
       "'0x10'"
      ]
     },
     "execution_count": 57,
     "metadata": {},
     "output_type": "execute_result"
    }
   ],
   "source": [
    "hex(16)"
   ]
  },
  {
   "cell_type": "code",
   "execution_count": 58,
   "id": "c662bdaa-b7f3-4830-aaec-ce99b4bad913",
   "metadata": {},
   "outputs": [
    {
     "data": {
      "text/plain": [
       "'0x5f'"
      ]
     },
     "execution_count": 58,
     "metadata": {},
     "output_type": "execute_result"
    }
   ],
   "source": [
    "hex(95)"
   ]
  },
  {
   "cell_type": "code",
   "execution_count": 59,
   "id": "78ea4f25-10db-4f26-ab70-2554eecbefb9",
   "metadata": {},
   "outputs": [
    {
     "name": "stdout",
     "output_type": "stream",
     "text": [
      "10 11\n"
     ]
    }
   ],
   "source": [
    "print(0xa, 0xb)"
   ]
  },
  {
   "cell_type": "code",
   "execution_count": 60,
   "id": "70c3d7f8-49c7-4920-b620-16df7a48b56c",
   "metadata": {},
   "outputs": [
    {
     "name": "stdout",
     "output_type": "stream",
     "text": [
      "65152 50368 3771 41445 99\n"
     ]
    }
   ],
   "source": [
    "print( 0xfe80,0xc4c0,0xebb,0xa1e5,0x63)"
   ]
  },
  {
   "cell_type": "code",
   "execution_count": 61,
   "id": "831ae4b6-3051-448b-bead-64e322ed5f38",
   "metadata": {},
   "outputs": [],
   "source": [
    "## WAP to swap two number?"
   ]
  },
  {
   "cell_type": "code",
   "execution_count": 62,
   "id": "65ca553b-ecaa-4a7d-b27b-2eb05cad7915",
   "metadata": {},
   "outputs": [
    {
     "name": "stdout",
     "output_type": "stream",
     "text": [
      "a = 6 b = 5\n"
     ]
    }
   ],
   "source": [
    "a = 5\n",
    "b = 6\n",
    "tem = a\n",
    "a = b\n",
    "b = tem\n",
    "print(\"a =\", a, \"b =\", b)"
   ]
  },
  {
   "cell_type": "code",
   "execution_count": 63,
   "id": "4200088b-ca9f-464b-91dd-ddd6b6cbcbbf",
   "metadata": {},
   "outputs": [],
   "source": [
    "## WAP to swap two number without using 3rd variable?"
   ]
  },
  {
   "cell_type": "raw",
   "id": "f561a6dc-511d-4be5-85d2-ef3f33dc82fe",
   "metadata": {},
   "source": [
    "1- 3rd variable\n",
    "2- a+b | a-b | a-b\n",
    "3- a,b = b,a"
   ]
  },
  {
   "cell_type": "markdown",
   "id": "cacff261-25c3-4b18-af6c-059038d28536",
   "metadata": {},
   "source": [
    "### Bitwise Operator()"
   ]
  },
  {
   "cell_type": "raw",
   "id": "8ecd69cc-1093-4e4a-be8f-bb4a00e7509c",
   "metadata": {},
   "source": [
    "1- complement ~\n",
    "2- and &\n",
    "3- or |\n",
    "4- xor ^\n",
    "5- left-Shift <<\n",
    "6- right-Shift >>"
   ]
  },
  {
   "cell_type": "code",
   "execution_count": 64,
   "id": "c6faac1e-8442-4e9f-8a03-a5a61ac11a1b",
   "metadata": {},
   "outputs": [
    {
     "data": {
      "text/plain": [
       "-11"
      ]
     },
     "execution_count": 64,
     "metadata": {},
     "output_type": "execute_result"
    }
   ],
   "source": [
    "~10"
   ]
  },
  {
   "cell_type": "code",
   "execution_count": 65,
   "id": "f82c64dc-b3f0-4485-83dc-37ccd9f03162",
   "metadata": {},
   "outputs": [
    {
     "data": {
      "text/plain": [
       "-25"
      ]
     },
     "execution_count": 65,
     "metadata": {},
     "output_type": "execute_result"
    }
   ],
   "source": [
    "~24"
   ]
  },
  {
   "cell_type": "code",
   "execution_count": 66,
   "id": "d6ae4b12-913c-4878-ac28-e53c29a4adca",
   "metadata": {},
   "outputs": [
    {
     "data": {
      "text/plain": [
       "12"
      ]
     },
     "execution_count": 66,
     "metadata": {},
     "output_type": "execute_result"
    }
   ],
   "source": [
    "12 & 13"
   ]
  },
  {
   "cell_type": "code",
   "execution_count": 67,
   "id": "5389c4f1-9ca2-411c-a142-874d11a209c8",
   "metadata": {},
   "outputs": [
    {
     "data": {
      "text/plain": [
       "13"
      ]
     },
     "execution_count": 67,
     "metadata": {},
     "output_type": "execute_result"
    }
   ],
   "source": [
    "12 | 13"
   ]
  },
  {
   "cell_type": "code",
   "execution_count": 68,
   "id": "10c6d090-7fc6-4cdc-a16b-c2f62a33ba98",
   "metadata": {},
   "outputs": [
    {
     "data": {
      "text/plain": [
       "(0, 1)"
      ]
     },
     "execution_count": 68,
     "metadata": {},
     "output_type": "execute_result"
    }
   ],
   "source": [
    "1 & 0, 1 | 0,"
   ]
  },
  {
   "cell_type": "raw",
   "id": "3afe4cbb-d3f4-4139-86ef-67e40bababd3",
   "metadata": {},
   "source": [
    "  And   |   Or   | Xor\n",
    "1&1 = 1 | 0or0=0 | 0^0=0\n",
    "rest= 0 |rest= 1 | 1^1= 0 and rest of them are 1."
   ]
  },
  {
   "cell_type": "code",
   "execution_count": 69,
   "id": "a7393670-54f1-48ea-8864-3987aa0bd52d",
   "metadata": {},
   "outputs": [
    {
     "data": {
      "text/plain": [
       "1"
      ]
     },
     "execution_count": 69,
     "metadata": {},
     "output_type": "execute_result"
    }
   ],
   "source": [
    "12 ^ 13"
   ]
  },
  {
   "cell_type": "code",
   "execution_count": 70,
   "id": "1c5194d8-123b-465f-a299-c7b5f5714aff",
   "metadata": {},
   "outputs": [
    {
     "data": {
      "text/plain": [
       "'0b1010'"
      ]
     },
     "execution_count": 70,
     "metadata": {},
     "output_type": "execute_result"
    }
   ],
   "source": [
    "bin(10)"
   ]
  },
  {
   "cell_type": "code",
   "execution_count": 71,
   "id": "bc585446-74ce-415b-8a50-8593ba06223f",
   "metadata": {},
   "outputs": [
    {
     "data": {
      "text/plain": [
       "20"
      ]
     },
     "execution_count": 71,
     "metadata": {},
     "output_type": "execute_result"
    }
   ],
   "source": [
    "10 << 1     #left-shift can add the bits \"zero\" according to the given no. 10 (1010) << 1 =(10100)"
   ]
  },
  {
   "cell_type": "code",
   "execution_count": 72,
   "id": "129683a5-e73c-46f8-b910-a43d13513e1a",
   "metadata": {},
   "outputs": [
    {
     "data": {
      "text/plain": [
       "'0b10100'"
      ]
     },
     "execution_count": 72,
     "metadata": {},
     "output_type": "execute_result"
    }
   ],
   "source": [
    "bin(20)"
   ]
  },
  {
   "cell_type": "code",
   "execution_count": 73,
   "id": "d66f53e2-178d-4dec-b372-5bfd5d6937d3",
   "metadata": {},
   "outputs": [
    {
     "data": {
      "text/plain": [
       "5"
      ]
     },
     "execution_count": 73,
     "metadata": {},
     "output_type": "execute_result"
    }
   ],
   "source": [
    "10 >> 1    #Right-shift can remove the bits \"zero\" according to the given no. 10 (1010) >> 1 =(101)"
   ]
  },
  {
   "cell_type": "code",
   "execution_count": 74,
   "id": "e6ccaa53-6576-4689-b9c4-b2fbe84f9cc7",
   "metadata": {},
   "outputs": [
    {
     "data": {
      "text/plain": [
       "'0b101'"
      ]
     },
     "execution_count": 74,
     "metadata": {},
     "output_type": "execute_result"
    }
   ],
   "source": [
    "bin(5)"
   ]
  },
  {
   "cell_type": "raw",
   "id": "fba5a3c8-05a0-441e-affd-6f5bfe9e9e21",
   "metadata": {},
   "source": [
    "==PACKAGE==\n",
    "Package == collection of modules\n",
    "Modules = collection of function\n",
    "Function = Inbuilt Function & Use define function\n",
    "Function must has to():\n",
    "Function calling with (.) dot."
   ]
  },
  {
   "cell_type": "code",
   "execution_count": 4,
   "id": "3e78155f-6202-472f-b098-b8194c0503b1",
   "metadata": {},
   "outputs": [],
   "source": [
    "x = math.sqrt(15)"
   ]
  },
  {
   "cell_type": "code",
   "execution_count": null,
   "id": "cb0213a1-38a9-4ab8-bdc5-999befc0c794",
   "metadata": {},
   "outputs": [],
   "source": []
  },
  {
   "cell_type": "code",
   "execution_count": 5,
   "id": "d1891aaa-76cf-4f49-8ad5-1618ba04a280",
   "metadata": {},
   "outputs": [],
   "source": [
    "import math # math is module, and import is a Keyword."
   ]
  },
  {
   "cell_type": "code",
   "execution_count": 7,
   "id": "9a2364dd-c09a-4ffd-88b1-2a52feb91714",
   "metadata": {},
   "outputs": [],
   "source": [
    "#help(math) # to get the help from math module."
   ]
  },
  {
   "cell_type": "code",
   "execution_count": 9,
   "id": "49f3cc00-47fa-4696-afe5-b1ca4f04ef5c",
   "metadata": {},
   "outputs": [
    {
     "name": "stdout",
     "output_type": "stream",
     "text": [
      "3\n"
     ]
    }
   ],
   "source": [
    "print(math.floor(3.44))"
   ]
  },
  {
   "cell_type": "code",
   "execution_count": 10,
   "id": "e1b61fcb-3a53-4608-a4ac-05e6206880b4",
   "metadata": {},
   "outputs": [
    {
     "name": "stdout",
     "output_type": "stream",
     "text": [
      "4\n"
     ]
    }
   ],
   "source": [
    "print(math.ceil(3.44))"
   ]
  },
  {
   "cell_type": "code",
   "execution_count": 12,
   "id": "373f0c03-9538-412a-b0dd-ce5d9d1f007c",
   "metadata": {},
   "outputs": [
    {
     "name": "stdout",
     "output_type": "stream",
     "text": [
      "9.0\n"
     ]
    }
   ],
   "source": [
    "print(math.pow(3,2))"
   ]
  },
  {
   "cell_type": "code",
   "execution_count": 15,
   "id": "0d635889-a90c-4c2e-8808-7771b14ae51c",
   "metadata": {},
   "outputs": [],
   "source": [
    "import math as m #We can you shortcut as m for math."
   ]
  },
  {
   "cell_type": "code",
   "execution_count": 16,
   "id": "e7d86263-b5d6-4ecf-92d8-09aae74b4880",
   "metadata": {},
   "outputs": [
    {
     "data": {
      "text/plain": [
       "5.0"
      ]
     },
     "execution_count": 16,
     "metadata": {},
     "output_type": "execute_result"
    }
   ],
   "source": [
    "m.sqrt(25)"
   ]
  },
  {
   "cell_type": "code",
   "execution_count": null,
   "id": "2456a5b7-8c87-4238-9576-158f2756f5d0",
   "metadata": {},
   "outputs": [],
   "source": [
    "from math import sqrt,floor,ceil,pow,\n",
    "print(m.sqrt(10))\n",
    "print(m.floor(10))\n",
    "print(m.ceil(10))\n",
    "print(pow(2,3))"
   ]
  },
  {
   "cell_type": "raw",
   "id": "8e8f0ac9-3bcb-4519-bac5-662635a63215",
   "metadata": {},
   "source": [
    "\n",
    "input()-- bydefault it will give you string output."
   ]
  },
  {
   "cell_type": "code",
   "execution_count": 25,
   "id": "98b614b5-a557-47e1-a326-fa91137a9e52",
   "metadata": {},
   "outputs": [
    {
     "name": "stdin",
     "output_type": "stream",
     "text": [
      " 1\n",
      " 5\n"
     ]
    },
    {
     "name": "stdout",
     "output_type": "stream",
     "text": [
      "15\n"
     ]
    }
   ],
   "source": [
    "x = input()\n",
    "y = input()\n",
    "z = x + y\n",
    "print(z)"
   ]
  },
  {
   "cell_type": "code",
   "execution_count": 20,
   "id": "dccdeb4c-2482-4be3-812f-197aef2f2768",
   "metadata": {},
   "outputs": [
    {
     "name": "stdin",
     "output_type": "stream",
     "text": [
      "First name:  Shashank\n",
      "Last name:  Sen\n"
     ]
    },
    {
     "name": "stdout",
     "output_type": "stream",
     "text": [
      "ShashankSen\n"
     ]
    }
   ],
   "source": [
    "x1 = input(\"First name: \")\n",
    "y1 = input(\"Last name: \")\n",
    "z1 = x1 + y1\n",
    "print(z1)"
   ]
  },
  {
   "cell_type": "code",
   "execution_count": 22,
   "id": "eef6526d-4ea0-43d2-8624-0172c09efe7c",
   "metadata": {},
   "outputs": [
    {
     "name": "stdin",
     "output_type": "stream",
     "text": [
      " 5\n",
      " 5\n"
     ]
    },
    {
     "name": "stdout",
     "output_type": "stream",
     "text": [
      "10\n"
     ]
    }
   ],
   "source": [
    "x2 = int(input())\n",
    "y2 = int(input())\n",
    "z2 = x2 + y2\n",
    "print(z2)"
   ]
  },
  {
   "cell_type": "raw",
   "id": "695fb850-9c63-4f86-9cc3-7b7bbd7f679b",
   "metadata": {},
   "source": [
    "input() with eval()"
   ]
  },
  {
   "cell_type": "code",
   "execution_count": 1,
   "id": "46a11bcf-8eda-4aad-baac-3a2fcab178d7",
   "metadata": {},
   "outputs": [
    {
     "name": "stdin",
     "output_type": "stream",
     "text": [
      "Enter the no. : 2-3+4\n"
     ]
    },
    {
     "name": "stdout",
     "output_type": "stream",
     "text": [
      "3\n"
     ]
    }
   ],
   "source": [
    "result = eval(input(\"Enter the no. :\"))\n",
    "print(result)"
   ]
  },
  {
   "cell_type": "markdown",
   "id": "7f5f4559-4344-499f-9331-b30286750899",
   "metadata": {},
   "source": [
    "### OOPs Concept\n",
    " 03-07-25"
   ]
  },
  {
   "cell_type": "raw",
   "id": "8c69ba1c-4dfc-422b-9115-beb55ec73303",
   "metadata": {},
   "source": [
    "Advance Python :--\n",
    "1- conditional statement\n",
    "2- loops\n",
    "3- function\n",
    "4- function argument\n",
    "5- recurssion\n",
    "6- local vs global\n",
    "7- lambda function\n",
    "8- generator\n",
    "9- iteration\n",
    "10- exception handling\n",
    "11- multitherading.\n",
    "\n",
    "OOPs Concept :--\n",
    "1- Class\n",
    "2- Object\n",
    "3- method\n",
    "4- Encapsulation\n",
    "5- inheritence\n",
    "6- Polymorphism\n",
    "7- Abstraction."
   ]
  },
  {
   "cell_type": "markdown",
   "id": "ed4ef9e7-0b0c-41f5-b990-2057fab20b41",
   "metadata": {},
   "source": [
    "### Numpy?\n",
    "Numpy is a library which handle multidimension array numpy we can convert-(text-array | image-array | video-array).\n",
    "\n",
    ">Using help of numpy\n",
    "\n",
    "1. arithmetic operator\n",
    "2. statical operator\n",
    "3. biteise operator\n",
    "4. copy and view array\n",
    "5. stacking\n",
    "6. matrix operator\n",
    "7. linear operator\n",
    "8. broadcasting\n",
    "9. math operator\n",
    "10. searching and sorting\n",
    "\n",
    "### data is 2 part:-->\n",
    "    Structure data- excel sheet,csv.\n",
    "    Unstructure data- text, video, xml, pdf, sensor.\n",
    "    "
   ]
  },
  {
   "cell_type": "code",
   "execution_count": null,
   "id": "385fc978-d348-4581-ae0d-c2a1cfbd0098",
   "metadata": {},
   "outputs": [],
   "source": []
  },
  {
   "cell_type": "code",
   "execution_count": null,
   "id": "b8233864-a980-4728-94a6-a2acd84ea765",
   "metadata": {},
   "outputs": [],
   "source": []
  },
  {
   "cell_type": "code",
   "execution_count": null,
   "id": "625ce5af-2462-4bdc-aec0-8ac8b9028f2d",
   "metadata": {},
   "outputs": [],
   "source": []
  },
  {
   "cell_type": "code",
   "execution_count": null,
   "id": "776ef3c7-bf25-4b21-b573-4d9c93dfabf2",
   "metadata": {},
   "outputs": [],
   "source": []
  },
  {
   "cell_type": "code",
   "execution_count": null,
   "id": "72ec80cc-3b77-4927-ac39-80a094be799a",
   "metadata": {},
   "outputs": [],
   "source": []
  },
  {
   "cell_type": "code",
   "execution_count": null,
   "id": "ef158a21-bb86-4d8e-bafa-7c8281288242",
   "metadata": {},
   "outputs": [],
   "source": []
  },
  {
   "cell_type": "code",
   "execution_count": null,
   "id": "cb8888ab-7f59-4163-9f08-a32c6c72d1a3",
   "metadata": {},
   "outputs": [],
   "source": []
  },
  {
   "cell_type": "code",
   "execution_count": null,
   "id": "5751f5b1-cf31-415c-a25d-8ca3dfae5d50",
   "metadata": {},
   "outputs": [],
   "source": []
  },
  {
   "cell_type": "code",
   "execution_count": null,
   "id": "707ccbf3-c989-49b4-9960-3521c797f7ed",
   "metadata": {},
   "outputs": [],
   "source": []
  },
  {
   "cell_type": "code",
   "execution_count": null,
   "id": "0bda43aa-d77d-474e-8085-befd539a8ea7",
   "metadata": {},
   "outputs": [],
   "source": []
  },
  {
   "cell_type": "code",
   "execution_count": null,
   "id": "80cb3ad7-658e-435d-96b4-5a1f40ec8ac1",
   "metadata": {},
   "outputs": [],
   "source": []
  },
  {
   "cell_type": "code",
   "execution_count": null,
   "id": "8e9ff08d-05fe-416f-9c26-4102c7c9ef9d",
   "metadata": {},
   "outputs": [],
   "source": []
  },
  {
   "cell_type": "code",
   "execution_count": null,
   "id": "5487e592-de46-4e06-9513-951afdab1dd2",
   "metadata": {},
   "outputs": [],
   "source": []
  },
  {
   "cell_type": "code",
   "execution_count": null,
   "id": "738027bd-fb42-41d1-9387-7ab357e7b97c",
   "metadata": {},
   "outputs": [],
   "source": []
  },
  {
   "cell_type": "code",
   "execution_count": null,
   "id": "cfec1653-b374-4d7a-83b1-098051e04e26",
   "metadata": {},
   "outputs": [],
   "source": []
  },
  {
   "cell_type": "code",
   "execution_count": null,
   "id": "f5d1b222-8190-4a03-a5c9-b682f621d14e",
   "metadata": {},
   "outputs": [],
   "source": []
  },
  {
   "cell_type": "code",
   "execution_count": null,
   "id": "646da8f7-573a-4fac-af26-90176d72a723",
   "metadata": {},
   "outputs": [],
   "source": []
  }
 ],
 "metadata": {
  "kernelspec": {
   "display_name": "Python 3 (ipykernel)",
   "language": "python",
   "name": "python3"
  },
  "language_info": {
   "codemirror_mode": {
    "name": "ipython",
    "version": 3
   },
   "file_extension": ".py",
   "mimetype": "text/x-python",
   "name": "python",
   "nbconvert_exporter": "python",
   "pygments_lexer": "ipython3",
   "version": "3.13.5"
  }
 },
 "nbformat": 4,
 "nbformat_minor": 5
}
