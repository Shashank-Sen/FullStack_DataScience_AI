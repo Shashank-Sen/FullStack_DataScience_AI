{
 "cells": [
  {
   "cell_type": "markdown",
   "id": "a12d915a-f18d-48d6-a597-17f742081974",
   "metadata": {},
   "source": [
    "# Loops"
   ]
  },
  {
   "cell_type": "raw",
   "id": "6c76195f-cab3-46fa-bff7-8642763b3424",
   "metadata": {},
   "source": [
    "Loops are in 2 parts -- for loop and while loop."
   ]
  },
  {
   "cell_type": "markdown",
   "id": "24ccaeea-e05a-42ba-afd5-c42f7263cbc2",
   "metadata": {},
   "source": [
    "# While loop : -\n",
    "#### While loop is used for conditions"
   ]
  },
  {
   "cell_type": "code",
   "execution_count": 11,
   "id": "4e8e9738-ab00-45d5-b4da-61c44e355451",
   "metadata": {},
   "outputs": [
    {
     "name": "stdout",
     "output_type": "stream",
     "text": [
      "hello Shashank\n",
      "hello Shashank\n",
      "hello Shashank\n"
     ]
    }
   ],
   "source": [
    "count = 0\n",
    "while (count<3):\n",
    "    count = count + 1\n",
    "    print(\"hello Shashank\")"
   ]
  },
  {
   "cell_type": "code",
   "execution_count": 1,
   "id": "1ed7651d-6034-427d-b20b-a3ddf9ddbfaf",
   "metadata": {},
   "outputs": [],
   "source": [
    "# age = 28\n",
    "# while age > 19:   # Here the test condition is always True\n",
    "    # print('Infinite loop')"
   ]
  },
  {
   "cell_type": "markdown",
   "id": "44a638f9-da79-47fe-876c-f3401236793c",
   "metadata": {},
   "source": [
    "## while loop with continue statement"
   ]
  },
  {
   "cell_type": "code",
   "execution_count": 13,
   "id": "b8bb1797-b151-433e-9a9e-b78c7233d48c",
   "metadata": {},
   "outputs": [
    {
     "name": "stdout",
     "output_type": "stream",
     "text": [
      "0\n",
      "1\n",
      "2\n",
      "3\n",
      "4\n",
      "6\n",
      "7\n",
      "8\n",
      "9\n"
     ]
    }
   ],
   "source": [
    "i = 0\n",
    "while i < 10:\n",
    "    if i == 5:\n",
    "        i += 1  # ensure the loop variable is incremented to avoid infinite loop\n",
    "        continue\n",
    "    print(i)\n",
    "    i += 1"
   ]
  },
  {
   "cell_type": "code",
   "execution_count": 2,
   "id": "ee867b83-151c-4469-9aab-4ad8c1ae9303",
   "metadata": {},
   "outputs": [
    {
     "name": "stdout",
     "output_type": "stream",
     "text": [
      "t j m h l g "
     ]
    }
   ],
   "source": [
    "# Print all letters except 'e' and 's'\n",
    "i = 0\n",
    "a = 'tajmahalagra'\n",
    "while i < len(a):\n",
    "    if a[i] == 'a' or a[i] == 'r':\n",
    "        i += 1\n",
    "        continue\n",
    "\n",
    "    print(a[i],end =' ')   # end = \"\" (it won't print new line)\n",
    "    i+=1"
   ]
  },
  {
   "cell_type": "code",
   "execution_count": null,
   "id": "c06a7279-be9c-4be3-b57b-a053e6437a41",
   "metadata": {},
   "outputs": [],
   "source": []
  },
  {
   "cell_type": "markdown",
   "id": "3992dd94-ba3d-4234-aefb-72b23a7436f1",
   "metadata": {},
   "source": [
    "## while loop with break statement"
   ]
  },
  {
   "cell_type": "code",
   "execution_count": 3,
   "id": "fdbf7768-e1cf-4835-8542-0bfff011bea7",
   "metadata": {},
   "outputs": [
    {
     "name": "stdout",
     "output_type": "stream",
     "text": [
      "t "
     ]
    }
   ],
   "source": [
    "i = 0\n",
    "a = 'tajmahalagra'\n",
    "while i < len(a):\n",
    "    if a[i] == 'a' or a[i] == 'r':\n",
    "        i += 1\n",
    "        break\n",
    "\n",
    "    print(a[i],end =' ') # end = \"\" (it won't print new line)\n",
    "    i+=1"
   ]
  },
  {
   "cell_type": "markdown",
   "id": "683afc30-b3c7-4a13-ac63-6317009751f1",
   "metadata": {},
   "source": [
    "## while loop with pass statement"
   ]
  },
  {
   "cell_type": "code",
   "execution_count": 16,
   "id": "4e87c0af-67a2-4b4c-9c89-18be3fd3a3e4",
   "metadata": {},
   "outputs": [
    {
     "name": "stdout",
     "output_type": "stream",
     "text": [
      "Value of i : 10\n"
     ]
    }
   ],
   "source": [
    "# An empty loop\n",
    "a = 'Samoshaalu'\n",
    "i = 0\n",
    "\n",
    "while i < len(a):\n",
    "    i += 1\n",
    "    pass\n",
    "  \n",
    "print('Value of i :', i)"
   ]
  },
  {
   "cell_type": "code",
   "execution_count": null,
   "id": "ae370414-bfed-4198-bfaa-d5a57d087aac",
   "metadata": {},
   "outputs": [],
   "source": []
  },
  {
   "cell_type": "markdown",
   "id": "8bf1a01c-af5d-42fc-ab99-b202043fd75d",
   "metadata": {},
   "source": [
    "# For loop :"
   ]
  },
  {
   "cell_type": "markdown",
   "id": "1e8b4a4b-afa0-42da-9b5c-8e3b79f2ee09",
   "metadata": {},
   "source": [
    "## 1. Right Angle Triangle Pattern "
   ]
  },
  {
   "cell_type": "code",
   "execution_count": 1,
   "id": "4f36bf3c-4ae4-488d-a4e5-0702b9598ad4",
   "metadata": {},
   "outputs": [
    {
     "name": "stdout",
     "output_type": "stream",
     "text": [
      " * \n",
      " *  * \n",
      " *  *  * \n",
      " *  *  *  * \n",
      " *  *  *  *  * \n"
     ]
    }
   ],
   "source": [
    "for i in range(1,6):\n",
    "    print(' * ' *i)"
   ]
  },
  {
   "cell_type": "markdown",
   "id": "a22de9cb-b08c-4d5e-bc19-0b79a067c299",
   "metadata": {},
   "source": [
    "## 2. Inverted Right Angle Triangle Pattern"
   ]
  },
  {
   "cell_type": "code",
   "execution_count": 2,
   "id": "c2a38de4-c9bf-45d8-b198-a5090f7a24ea",
   "metadata": {},
   "outputs": [
    {
     "name": "stdout",
     "output_type": "stream",
     "text": [
      " *  *  *  *  * \n",
      " *  *  *  * \n",
      " *  *  * \n",
      " *  * \n",
      " * \n"
     ]
    }
   ],
   "source": [
    "for i in range(5,0,-1):\n",
    "    print(' * ' *i)"
   ]
  },
  {
   "cell_type": "markdown",
   "id": "8b3df41b-8877-47f2-8016-d73292aa0052",
   "metadata": {},
   "source": [
    "## 3. Pyramid Pattern"
   ]
  },
  {
   "cell_type": "code",
   "execution_count": null,
   "id": "0a78f2c7-1815-4e53-9450-4954b8083159",
   "metadata": {},
   "outputs": [],
   "source": [
    "for i in range(1,6):\n",
    "    print(''*(5-i)+' * '*(2*i-1))"
   ]
  },
  {
   "cell_type": "markdown",
   "id": "f5181c6f-2751-4f07-9a22-adf99c0ec263",
   "metadata": {},
   "source": [
    "## 4. Inverted Pyramid Pattern "
   ]
  },
  {
   "cell_type": "code",
   "execution_count": 6,
   "id": "81573280-a3e1-4c52-bfc8-7808d54977ac",
   "metadata": {},
   "outputs": [
    {
     "name": "stdout",
     "output_type": "stream",
     "text": [
      " *  *  *  *  *  *  *  *  * \n",
      " *  *  *  *  *  *  * \n",
      " *  *  *  *  * \n",
      " *  *  * \n",
      " * \n"
     ]
    }
   ],
   "source": [
    "for i in range(5,0,-1):\n",
    "    print(''*(5-i)+' * '*(2*i-1))"
   ]
  },
  {
   "cell_type": "markdown",
   "id": "df59c139-a5c9-46b4-b964-3fa5120fbd44",
   "metadata": {},
   "source": [
    "## 5. Diamond Pattern"
   ]
  },
  {
   "cell_type": "code",
   "execution_count": 7,
   "id": "c128a9be-b418-4783-b15b-5c3986c29d63",
   "metadata": {},
   "outputs": [
    {
     "name": "stdout",
     "output_type": "stream",
     "text": [
      " * \n",
      " *  *  * \n",
      " *  *  *  *  * \n",
      " *  *  *  *  *  *  * \n",
      " *  *  *  *  *  *  *  *  * \n",
      " *  *  *  *  *  *  * \n",
      " *  *  *  *  * \n",
      " *  *  * \n",
      " * \n"
     ]
    }
   ],
   "source": [
    "for i in range(1,6):\n",
    "    print(''*(5-i)+' * '*(2*i-1))\n",
    "for i in range(4,0,-1):\n",
    "    print(''*(5-i)+' * '*(2*i-1))"
   ]
  },
  {
   "cell_type": "markdown",
   "id": "dcd266d6-f608-4008-a9eb-d57692e83604",
   "metadata": {},
   "source": [
    "## 6. Hallow Square Pattern"
   ]
  },
  {
   "cell_type": "code",
   "execution_count": 9,
   "id": "14fab1b5-65b5-4e9f-904a-7c3afd4827d5",
   "metadata": {},
   "outputs": [
    {
     "name": "stdout",
     "output_type": "stream",
     "text": [
      "*****\n",
      "*   *\n",
      "*   *\n",
      "*   *\n",
      "*****\n"
     ]
    }
   ],
   "source": [
    "for i in range(5):\n",
    "    for j in range(5):\n",
    "        if i==0 or i==4 or j==0 or j==4:\n",
    "            print('*', end='')\n",
    "        else:\n",
    "            print(' ', end='')\n",
    "    print()"
   ]
  },
  {
   "cell_type": "markdown",
   "id": "a9e66b70-e117-459a-a6a3-13fd73b43d8c",
   "metadata": {},
   "source": [
    "## 7. Full Square Pattern"
   ]
  },
  {
   "cell_type": "code",
   "execution_count": 10,
   "id": "e641cb0b-ca2a-4d9e-8ec6-665edd2efec3",
   "metadata": {},
   "outputs": [
    {
     "name": "stdout",
     "output_type": "stream",
     "text": [
      " *  *  *  *  * \n",
      " *  *  *  *  * \n",
      " *  *  *  *  * \n",
      " *  *  *  *  * \n",
      " *  *  *  *  * \n"
     ]
    }
   ],
   "source": [
    "for i in range(5):\n",
    "    print(' * ' * 5)"
   ]
  },
  {
   "cell_type": "markdown",
   "id": "030f7e83-e4bb-42b1-9092-ffef8f355b67",
   "metadata": {},
   "source": [
    "## 8. Right Angle Triangle (Number pattern)"
   ]
  },
  {
   "cell_type": "code",
   "execution_count": 11,
   "id": "efc2630a-2f43-41e3-a2df-86e3ad8b0783",
   "metadata": {},
   "outputs": [
    {
     "name": "stdout",
     "output_type": "stream",
     "text": [
      "1\n",
      "1 2\n",
      "1 2 3\n",
      "1 2 3 4\n",
      "1 2 3 4 5\n"
     ]
    }
   ],
   "source": [
    "for i in range (1,6):\n",
    "    print(' '.join(str(x) for x in range(1, i + 1)))"
   ]
  },
  {
   "cell_type": "markdown",
   "id": "de22d0c9-4151-4739-a6b7-cadaba52c904",
   "metadata": {},
   "source": [
    "## 9.Inverted  Right Angle Triangle (Number pattern)"
   ]
  },
  {
   "cell_type": "code",
   "execution_count": 12,
   "id": "88fe1c15-51f7-4bb1-b845-79026fc598d8",
   "metadata": {},
   "outputs": [
    {
     "name": "stdout",
     "output_type": "stream",
     "text": [
      "1 2 3 4 5\n",
      "1 2 3 4\n",
      "1 2 3\n",
      "1 2\n",
      "1\n"
     ]
    }
   ],
   "source": [
    "for i in range(5,0,-1):\n",
    "    print(' '.join(str(x) for x in range(1, i + 1)))"
   ]
  },
  {
   "cell_type": "markdown",
   "id": "f23cfc82-fad7-4210-a365-b080f83b7686",
   "metadata": {},
   "source": [
    "## 10. Floyd's Triangle"
   ]
  },
  {
   "cell_type": "code",
   "execution_count": 13,
   "id": "733d404c-9111-4483-a1b2-09fe6d3eade1",
   "metadata": {},
   "outputs": [
    {
     "name": "stdout",
     "output_type": "stream",
     "text": [
      "1 \n",
      "2 3 \n",
      "4 5 6 \n",
      "7 8 9 10 \n",
      "11 12 13 14 15 \n"
     ]
    }
   ],
   "source": [
    "num = 1\n",
    "for i in range (1,6):\n",
    "    for j in range(1,i+1):\n",
    "        print(num,end=' ')\n",
    "        num+=1\n",
    "    print()"
   ]
  },
  {
   "cell_type": "markdown",
   "id": "cfcc626b-17d2-4794-8e17-d474da7fd868",
   "metadata": {},
   "source": [
    "## 11. Hallow Right Angle Triangle"
   ]
  },
  {
   "cell_type": "code",
   "execution_count": 14,
   "id": "9ffef993-87a8-45d2-a05c-1a4d3ce4a0b4",
   "metadata": {},
   "outputs": [
    {
     "name": "stdout",
     "output_type": "stream",
     "text": [
      "* \n",
      "* * \n",
      "*   * \n",
      "*     * \n",
      "* * * * * \n"
     ]
    }
   ],
   "source": [
    "for i in range(1,6):\n",
    "    for j in range(1,i+1):\n",
    "        if j==1 or j==i or i==5:\n",
    "            print('*',end=' ')\n",
    "        else:\n",
    "            print(' ',end= ' ')\n",
    "    print()"
   ]
  },
  {
   "cell_type": "markdown",
   "id": "11d60259-eabe-4e41-a656-4aea4e1eec4d",
   "metadata": {},
   "source": [
    "## 12. Hallow Pyramid Pattern"
   ]
  },
  {
   "cell_type": "code",
   "execution_count": 19,
   "id": "528d3289-7665-41b5-8387-b2a7a157c21c",
   "metadata": {},
   "outputs": [
    {
     "name": "stdout",
     "output_type": "stream",
     "text": [
      "        * \n",
      "      *   * \n",
      "    *       * \n",
      "  *           * \n",
      "* * * * * * * * * \n"
     ]
    }
   ],
   "source": [
    "for i in range(1,6):\n",
    "    for j in range(5-i):\n",
    "        print(' ', end=' ')\n",
    "    for j in range(2* i - 1):\n",
    "        if j == 0 or j==2 * i-2 or i==5:\n",
    "            print('*', end =\" \")\n",
    "        else:\n",
    "            print(' ', end= ' ')\n",
    "    print()"
   ]
  },
  {
   "cell_type": "markdown",
   "id": "6f79ec97-d8d2-4371-a507-7e04d999fdfa",
   "metadata": {},
   "source": [
    "## 13. Hallow Diamond Pattern"
   ]
  },
  {
   "cell_type": "code",
   "execution_count": 21,
   "id": "2c387ca7-c713-4324-af72-e5b9bbdaf624",
   "metadata": {},
   "outputs": [
    {
     "name": "stdout",
     "output_type": "stream",
     "text": [
      "        * \n",
      "      *   * \n",
      "    *       * \n",
      "  *           * \n",
      "*               * \n",
      "  *           * \n",
      "    *       * \n",
      "      *   * \n",
      "        * \n"
     ]
    }
   ],
   "source": [
    "n=5\n",
    "for i in range (1, n+1):\n",
    "    for j in range(n-i):\n",
    "        print(' ',end = ' ')\n",
    "    for j in range(2*i-1):\n",
    "        if j == 0 or j == 2 * i - 2:\n",
    "            print(\"*\", end=' ')\n",
    "        else:\n",
    "            print(' ',end= \" \")\n",
    "    print()\n",
    "\n",
    "for i in range (n-1,0,-1):\n",
    "    for j in range(n-i):\n",
    "        print(' ',end = ' ')\n",
    "    for j in range(2*i-1):\n",
    "        if j == 0 or j == 2 * i - 2:\n",
    "            print(\"*\", end=' ')\n",
    "        else:\n",
    "            print(' ',end= \" \")\n",
    "    print()"
   ]
  },
  {
   "cell_type": "markdown",
   "id": "6cf3b7a1-e4ed-4485-9f3a-c7bdca75c9ab",
   "metadata": {},
   "source": [
    "## 14. Hallow Diamond (number Pattern)"
   ]
  },
  {
   "cell_type": "code",
   "execution_count": 22,
   "id": "8e75b74f-f4d9-410d-ba13-734b4157d712",
   "metadata": {},
   "outputs": [
    {
     "name": "stdout",
     "output_type": "stream",
     "text": [
      "        1 \n",
      "      2   2 \n",
      "    3       3 \n",
      "  4           4 \n",
      "5               5 \n",
      "  4           4 \n",
      "    3       3 \n",
      "      2   2 \n",
      "        1 \n"
     ]
    }
   ],
   "source": [
    "n=5\n",
    "for i in range (1, n+1):\n",
    "    for j in range(n-i):\n",
    "        print(' ',end = ' ')\n",
    "    for j in range(2*i-1):\n",
    "        if j == 0 or j == 2 * i - 2:\n",
    "            print(i, end=' ')\n",
    "        else:\n",
    "            print(' ',end= \" \")\n",
    "    print()\n",
    "\n",
    "for i in range (n-1,0,-1):\n",
    "    for j in range(n-i):\n",
    "        print(' ',end = ' ')\n",
    "    for j in range(2*i-1):\n",
    "        if j == 0 or j == 2 * i - 2:\n",
    "            print(i, end=' ')\n",
    "        else:\n",
    "            print(' ',end= \" \")\n",
    "    print()"
   ]
  },
  {
   "cell_type": "markdown",
   "id": "eb9b0caa-6133-492b-ac27-89478e8b5d55",
   "metadata": {},
   "source": [
    "## 15. Butterfly pattern"
   ]
  },
  {
   "cell_type": "code",
   "execution_count": 29,
   "id": "b08a8778-e29b-487d-bb36-7c0d577cf95c",
   "metadata": {},
   "outputs": [
    {
     "name": "stdout",
     "output_type": "stream",
     "text": [
      "1                 1 \n",
      "1 2             1 2 \n",
      "1 2 3         1 2 3 \n",
      "1 2 3 4     1 2 3 4 \n",
      "1 2 3 4 5 1 2 3 4 5 \n",
      "1 2 3 4 5 1 2 3 4 5 \n",
      "1 2 3 4     1 2 3 4 \n",
      "1 2 3         1 2 3 \n",
      "1 2             1 2 \n",
      "1                 1 \n",
      "*                 * \n",
      "* *             * * \n",
      "* * *         * * * \n",
      "* * * *     * * * * \n",
      "* * * * * * * * * * \n",
      "* * * * * * * * * * \n",
      "* * * *     * * * * \n",
      "* * *         * * * \n",
      "* *             * * \n",
      "*                 * \n"
     ]
    }
   ],
   "source": [
    "n = 5\n",
    "\n",
    "# Upper half of the diamond\n",
    "for i in range(1, n + 1):\n",
    "    # Print left side numbers\n",
    "    for j in range(1, i + 1):\n",
    "        print(j, end=' ')\n",
    "    \n",
    "    # Print spaces in the middle\n",
    "    for _ in range(2 * (n - i)):\n",
    "        print(' ', end=' ')\n",
    "    \n",
    "    # Print right side numbers\n",
    "    for j in range(1, i + 1):\n",
    "        print(j, end=' ')\n",
    "    \n",
    "    print()  # Move to next line\n",
    "\n",
    "# Lower half of the diamond\n",
    "for i in range(n, 0, -1):\n",
    "    # Print left side numbers\n",
    "    for j in range(1, i + 1):\n",
    "        print(j, end=' ')\n",
    "    \n",
    "    # Print spaces in the middle\n",
    "    for _ in range(2 * (n - i)):\n",
    "        print(' ', end=' ')\n",
    "    \n",
    "    # Print right side numbers\n",
    "    for j in range(1, i + 1):\n",
    "        print(j, end=' ')\n",
    "    \n",
    "    print()  # Move to next line\n",
    "\n",
    "\n",
    "\n",
    "## **\n",
    "n = 5\n",
    "\n",
    "# Upper half of the diamond\n",
    "for i in range(1, n + 1):\n",
    "    # Print left side numbers\n",
    "    for j in range(1, i + 1):\n",
    "        print('*', end=' ')\n",
    "    \n",
    "    # Print spaces in the middle\n",
    "    for _ in range(2 * (n - i)):\n",
    "        print(' ', end=' ')\n",
    "    \n",
    "    # Print right side numbers\n",
    "    for j in range(1, i + 1):\n",
    "        print('*', end=' ')\n",
    "    \n",
    "    print()  # Move to next line\n",
    "\n",
    "# Lower half of the diamond\n",
    "for i in range(n, 0, -1):\n",
    "    # Print left side numbers\n",
    "    for j in range(1, i + 1):\n",
    "        print('*', end=' ')\n",
    "    \n",
    "    # Print spaces in the middle\n",
    "    for _ in range(2 * (n - i)):\n",
    "        print(' ', end=' ')\n",
    "    \n",
    "    # Print right side numbers\n",
    "    for j in range(1, i + 1):\n",
    "        print('*', end=' ')\n",
    "    \n",
    "    print()  # Move to next line\n",
    "\n"
   ]
  },
  {
   "cell_type": "markdown",
   "id": "a3a81028-a88a-44cf-8966-e0fb21ba6b8d",
   "metadata": {},
   "source": [
    "## 16. Hallow Number Pyramid"
   ]
  },
  {
   "cell_type": "code",
   "execution_count": 31,
   "id": "11ccfc54-9f93-4ee3-a506-30f263ba4030",
   "metadata": {},
   "outputs": [
    {
     "name": "stdout",
     "output_type": "stream",
     "text": [
      "        1 \n",
      "      2   2 \n",
      "    3       3 \n",
      "  4           4 \n",
      "5 5 5 5 5 5 5 5 5 \n"
     ]
    }
   ],
   "source": [
    "n = 5\n",
    "for i in range(1, n+1):\n",
    "    for j in range(n-i):\n",
    "        print(' ', end = ' ')\n",
    "\n",
    "    for j in range(1,2*i):\n",
    "        if j==1 or j==2*i-1 or i ==n:\n",
    "            print(i,end = ' ')\n",
    "        else:\n",
    "            print(' ', end = ' ')\n",
    "    print()"
   ]
  },
  {
   "cell_type": "markdown",
   "id": "5905f395-bbd6-4b20-a6a5-d5c6418b53fb",
   "metadata": {},
   "source": [
    "## 17. Full Star Pyramid"
   ]
  },
  {
   "cell_type": "code",
   "execution_count": 32,
   "id": "b081d59d-a877-4a51-b5c5-03b7864a4f85",
   "metadata": {},
   "outputs": [
    {
     "name": "stdout",
     "output_type": "stream",
     "text": [
      "        * \n",
      "      * * * \n",
      "    * * * * * \n",
      "  * * * * * * * \n",
      "* * * * * * * * * \n"
     ]
    }
   ],
   "source": [
    "n = 5\n",
    "for i in range(1, n+1):\n",
    "    for j in range(n-i):\n",
    "        print(' ',end= ' ')\n",
    "    for j in range(2*i-1):\n",
    "        print('*', end= ' ')\n",
    "    print()"
   ]
  },
  {
   "cell_type": "markdown",
   "id": "adfbaf3f-9314-4cea-862a-6062ff0638d2",
   "metadata": {},
   "source": [
    "## 18. Inverted Full Star Pyramid"
   ]
  },
  {
   "cell_type": "code",
   "execution_count": 33,
   "id": "545a5ceb-93be-486d-846c-732e305ceb27",
   "metadata": {},
   "outputs": [
    {
     "name": "stdout",
     "output_type": "stream",
     "text": [
      "* * * * * * * * * \n",
      "  * * * * * * * \n",
      "    * * * * * \n",
      "      * * * \n",
      "        * \n"
     ]
    }
   ],
   "source": [
    "n = 5\n",
    "for i in range(n,0,-1):\n",
    "    for j in range(n-i):\n",
    "        print(' ',end= ' ')\n",
    "    for j in range(2*i-1):\n",
    "        print('*', end= ' ')\n",
    "    print()"
   ]
  },
  {
   "cell_type": "markdown",
   "id": "b5879715-fa1c-4133-8c62-a07623c443b9",
   "metadata": {},
   "source": [
    "## 19. Left Aligned Pyramid Pattern"
   ]
  },
  {
   "cell_type": "code",
   "execution_count": 34,
   "id": "b3d453ee-22f4-44c3-ac5d-3687f011f27a",
   "metadata": {},
   "outputs": [
    {
     "name": "stdout",
     "output_type": "stream",
     "text": [
      "* \n",
      "* * \n",
      "* * * \n",
      "* * * * \n",
      "* * * * * \n",
      "1 \n",
      "1 2 \n",
      "1 2 3 \n",
      "1 2 3 4 \n",
      "1 2 3 4 5 \n"
     ]
    }
   ],
   "source": [
    "n = 5 \n",
    "for i in range(1,n+1):\n",
    "    for j in range(i):\n",
    "        print('*', end=\" \")\n",
    "    print()\n",
    "\n",
    "n = 5 \n",
    "for i in range(1,n+1):\n",
    "    for j in range(1,i+1):\n",
    "        print(j, end=\" \")\n",
    "    print()"
   ]
  },
  {
   "cell_type": "markdown",
   "id": "2b7b004d-2b0b-493b-8ac2-c1279013a2a2",
   "metadata": {},
   "source": [
    "## 20. Right Aligned Pyramid pattern"
   ]
  },
  {
   "cell_type": "code",
   "execution_count": 35,
   "id": "8bccd78a-4adc-42e0-b2a1-970a1fbf5238",
   "metadata": {},
   "outputs": [
    {
     "name": "stdout",
     "output_type": "stream",
     "text": [
      "        1 \n",
      "      1 2 \n",
      "    1 2 3 \n",
      "  1 2 3 4 \n",
      "1 2 3 4 5 \n",
      "        * \n",
      "      * * \n",
      "    * * * \n",
      "  * * * * \n",
      "* * * * * \n"
     ]
    }
   ],
   "source": [
    "n=5\n",
    "for i in range(1,n+1):\n",
    "    for j in range(n-i):\n",
    "        print(' ', end =\" \")\n",
    "    for j in range(1,i+1):\n",
    "        print(j, end=' ')\n",
    "    print()\n",
    "\n",
    "n=5\n",
    "for i in range(1,n+1):\n",
    "    for j in range(n-i):\n",
    "        print(' ', end =\" \")\n",
    "    for j in range(1,i+1):\n",
    "        print('*', end=' ')\n",
    "    print()"
   ]
  },
  {
   "cell_type": "markdown",
   "id": "b186d0d6-d38a-4bf9-bffa-7aa90f727d07",
   "metadata": {},
   "source": [
    "# For else :\n",
    "### In other languages for else is not suppotable but in python it supported."
   ]
  },
  {
   "cell_type": "code",
   "execution_count": null,
   "id": "49ea743c-c20f-4295-bdf5-f0c7c443695e",
   "metadata": {},
   "outputs": [],
   "source": []
  },
  {
   "cell_type": "code",
   "execution_count": null,
   "id": "50e46f4b-a03e-40a0-b4ef-fa82c0ebb077",
   "metadata": {},
   "outputs": [],
   "source": []
  },
  {
   "cell_type": "code",
   "execution_count": null,
   "id": "8d9f2358-dda6-4353-b971-9ef76eb89f45",
   "metadata": {},
   "outputs": [],
   "source": []
  }
 ],
 "metadata": {
  "kernelspec": {
   "display_name": "Python 3 (ipykernel)",
   "language": "python",
   "name": "python3"
  },
  "language_info": {
   "codemirror_mode": {
    "name": "ipython",
    "version": 3
   },
   "file_extension": ".py",
   "mimetype": "text/x-python",
   "name": "python",
   "nbconvert_exporter": "python",
   "pygments_lexer": "ipython3",
   "version": "3.13.5"
  }
 },
 "nbformat": 4,
 "nbformat_minor": 5
}
